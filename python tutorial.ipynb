{
  "nbformat": 4,
  "nbformat_minor": 0,
  "metadata": {
    "colab": {
      "name": "python 3.ipynb",
      "version": "0.3.2",
      "provenance": [],
      "collapsed_sections": [],
      "include_colab_link": true
    },
    "kernelspec": {
      "name": "python3",
      "display_name": "Python 3"
    }
  },
  "cells": [
    {
      "cell_type": "markdown",
      "metadata": {
        "id": "view-in-github",
        "colab_type": "text"
      },
      "source": [
        "[View in Colaboratory](https://colab.research.google.com/github/huudatHust/machine-learning/blob/master/python%20tutorial.ipynb)"
      ]
    },
    {
      "metadata": {
        "id": "zGNEOTxBPzvd",
        "colab_type": "text"
      },
      "cell_type": "markdown",
      "source": [
        "###Operation\n",
        "\n",
        "\n",
        "*   +, - Addition, Subtraction\n",
        "*   // Truncation Division (also known as floordivision or floor division)\n",
        "*  **  hàm mũ \n",
        "* or, and, not : biểu thức logic\n",
        "\n",
        "\n"
      ]
    },
    {
      "metadata": {
        "id": "Q9wzpnzzQRlb",
        "colab_type": "code",
        "colab": {
          "base_uri": "https://localhost:8080/",
          "height": 51
        },
        "outputId": "957bee19-c28b-4a06-a2c9-1c8405c71922"
      },
      "cell_type": "code",
      "source": [
        "print(10.0 // 3)\n",
        "print(10 ** 3)"
      ],
      "execution_count": 3,
      "outputs": [
        {
          "output_type": "stream",
          "text": [
            "3.0\n",
            "1000\n"
          ],
          "name": "stdout"
        }
      ]
    },
    {
      "metadata": {
        "id": "JqkFfODpQjui",
        "colab_type": "code",
        "colab": {}
      },
      "cell_type": "code",
      "source": [
        ""
      ],
      "execution_count": 0,
      "outputs": []
    },
    {
      "metadata": {
        "id": "EGoyLZGuQuOC",
        "colab_type": "text"
      },
      "cell_type": "markdown",
      "source": [
        "\n",
        "\n",
        "---\n",
        "\n",
        "\n",
        "# Sequence Data Type\n",
        "\n",
        "\n",
        "* strings\n",
        "* byte sequences\n",
        "* byte arrays\n",
        "* lists\n",
        "* tuples\n",
        "* range objects\n"
      ]
    },
    {
      "metadata": {
        "id": "C7SbYMUgQePs",
        "colab_type": "code",
        "colab": {}
      },
      "cell_type": "code",
      "source": [
        ""
      ],
      "execution_count": 0,
      "outputs": []
    },
    {
      "metadata": {
        "id": "FVTU1B3URbcy",
        "colab_type": "text"
      },
      "cell_type": "markdown",
      "source": [
        "**Get Length** :  len()"
      ]
    },
    {
      "metadata": {
        "id": "G9B8pkMwQW8K",
        "colab_type": "code",
        "colab": {
          "base_uri": "https://localhost:8080/",
          "height": 34
        },
        "outputId": "d25c57cb-cb57-4111-a4fe-1261d5a149c1"
      },
      "cell_type": "code",
      "source": [
        "countries = [\"Germany\",\"Switzerland\",\"Austria\",\"France\",\"Belgium\", \"Netherlands\", \"England\"]\n",
        "len(countries)"
      ],
      "execution_count": 4,
      "outputs": [
        {
          "output_type": "execute_result",
          "data": {
            "text/plain": [
              "7"
            ]
          },
          "metadata": {
            "tags": []
          },
          "execution_count": 4
        }
      ]
    },
    {
      "metadata": {
        "id": "IZOapYwARvfL",
        "colab_type": "code",
        "colab": {}
      },
      "cell_type": "code",
      "source": [
        ""
      ],
      "execution_count": 0,
      "outputs": []
    },
    {
      "metadata": {
        "id": "qmgSm6w4SpOT",
        "colab_type": "text"
      },
      "cell_type": "markdown",
      "source": [
        "##Python Lists\n",
        "* They are ordered\n",
        "* The contain arbitrary objects\n",
        "* Elements of a list can be accessed by an index\n",
        "* They are arbitrarily nestable, i.e. they can contain other lists as sublists\n",
        "* Variable size\n",
        "* They are **mutable**, i.e. the elements of a list can be changed"
      ]
    },
    {
      "metadata": {
        "id": "djwbC1E-R3TR",
        "colab_type": "text"
      },
      "cell_type": "markdown",
      "source": [
        "**Accessing List elements**\n",
        "Phần tử sẽ chạy chiều xuôi từ 0 -> lengh, chiều ngược từ -1 -> -n\n"
      ]
    },
    {
      "metadata": {
        "id": "DUdEeV8rR5Ae",
        "colab_type": "code",
        "colab": {
          "base_uri": "https://localhost:8080/",
          "height": 34
        },
        "outputId": "35740817-19a1-4f8c-f23a-b6cfe3ac2115"
      },
      "cell_type": "code",
      "source": [
        "languages = [\"Python\", \"C\", \"C++\", \"Java\", \"Perl\"]\n",
        "print(languages[0] + \" and \" + languages[-1] + \" are quite different!\") "
      ],
      "execution_count": 7,
      "outputs": [
        {
          "output_type": "stream",
          "text": [
            "Python and Perl are quite different!\n"
          ],
          "name": "stdout"
        }
      ]
    },
    {
      "metadata": {
        "id": "YqDRaSAwShsz",
        "colab_type": "code",
        "colab": {}
      },
      "cell_type": "code",
      "source": [
        ""
      ],
      "execution_count": 0,
      "outputs": []
    },
    {
      "metadata": {
        "id": "quZ7scVZSEIu",
        "colab_type": "code",
        "colab": {}
      },
      "cell_type": "code",
      "source": [
        ""
      ],
      "execution_count": 0,
      "outputs": []
    },
    {
      "metadata": {
        "id": "Cz4MtY83SKsa",
        "colab_type": "text"
      },
      "cell_type": "markdown",
      "source": [
        "##SubList\n",
        "Lists can have sublists as elements. These sublists may contain sublists as well, i.e. lists can be recursively constructed by sublist structures"
      ]
    },
    {
      "metadata": {
        "id": "95kcyJhrSOWi",
        "colab_type": "code",
        "colab": {
          "base_uri": "https://localhost:8080/",
          "height": 34
        },
        "outputId": "f536fa73-6490-4134-e721-13d39fe6d5cd"
      },
      "cell_type": "code",
      "source": [
        "person = [[\"Marc\",\"Mayer\"],[\"17, Oxford Str\", \"12345\",\"London\"],\"07876-7876\"]\n",
        "first_name = person[0][0]\n",
        "print(first_name)"
      ],
      "execution_count": 6,
      "outputs": [
        {
          "output_type": "stream",
          "text": [
            "Marc\n"
          ],
          "name": "stdout"
        }
      ]
    },
    {
      "metadata": {
        "id": "QcmElDW2STrZ",
        "colab_type": "code",
        "colab": {}
      },
      "cell_type": "code",
      "source": [
        ""
      ],
      "execution_count": 0,
      "outputs": []
    },
    {
      "metadata": {
        "id": "ltQWFqlUTarB",
        "colab_type": "text"
      },
      "cell_type": "markdown",
      "source": [
        "##Tuples\n",
        "A tuple is an **immutable** list, i.e. a tuple cannot be changed in any way once it has been created\n",
        "* Tuples are faster than lists.\n",
        "* If you know that some data doesn't have to be changed, you should use tuples instead of lists, because this protects your data against accidental changes.\n",
        "* The main advantage of tuples consists in the fact that tuples can be used as keys in dictionaries, while lists can't."
      ]
    },
    {
      "metadata": {
        "id": "2qpp7NR2Twoy",
        "colab_type": "code",
        "colab": {
          "base_uri": "https://localhost:8080/",
          "height": 34
        },
        "outputId": "da00edce-bb43-4ed9-9f4f-d23994907b15"
      },
      "cell_type": "code",
      "source": [
        "t = (\"tuples\", \"are\", \"immutable\")\n",
        "t[0]\n",
        "# t[0]=\"assignments to elements are not possible\""
      ],
      "execution_count": 8,
      "outputs": [
        {
          "output_type": "execute_result",
          "data": {
            "text/plain": [
              "'tuples'"
            ]
          },
          "metadata": {
            "tags": []
          },
          "execution_count": 8
        }
      ]
    },
    {
      "metadata": {
        "id": "ERUJZb8oT1jV",
        "colab_type": "code",
        "colab": {}
      },
      "cell_type": "code",
      "source": [
        ""
      ],
      "execution_count": 0,
      "outputs": []
    },
    {
      "metadata": {
        "id": "LPCZTBBvT_lS",
        "colab_type": "text"
      },
      "cell_type": "markdown",
      "source": [
        "##Operator\n"
      ]
    },
    {
      "metadata": {
        "id": "bg1yFf_LUEXa",
        "colab_type": "text"
      },
      "cell_type": "markdown",
      "source": [
        "###Slicing: \n",
        "In many programming languages it can be quite tough to slice a part of a string and even tougher, if you like to address a \"subarray\". Python makes it very easy with its slice operator\n",
        "structure:    **s[begin: end: step]**\n",
        "\n",
        "We have a start and an end index, one or both of them may be missing\n",
        "\n",
        "The resulting sequence consists of the following elements:\n",
        "\n",
        "\n",
        "s[begin], s[begin + 1 * step], ... s[begin + i * step] for all (begin + i * step) < end."
      ]
    },
    {
      "metadata": {
        "id": "bpembfcnU_oR",
        "colab_type": "code",
        "colab": {
          "base_uri": "https://localhost:8080/",
          "height": 85
        },
        "outputId": "a9d4eacd-9635-40f7-ee3d-af3d28838e16"
      },
      "cell_type": "code",
      "source": [
        "str = \"Python is great\"\n",
        "first_six = str[:6]\n",
        "print(first_six)\n",
        "starting_at_five = str[5:]\n",
        "print(starting_at_five)\n",
        "without_last_five  = str[0:-5]\n",
        "print(without_last_five)\n",
        "\n",
        "str1 = \"TPoyrtohnotno  ciosu rtshees  lianr gTeosrto nCtiot yb yi nB oCdaennasdeao\"\n",
        "step2 = str1[::2];\n",
        "print(step2)"
      ],
      "execution_count": 13,
      "outputs": [
        {
          "output_type": "stream",
          "text": [
            "Python\n",
            "n is great\n",
            "Python is \n",
            "Toronto is the largest City in Canada\n"
          ],
          "name": "stdout"
        }
      ]
    },
    {
      "metadata": {
        "id": "tgHFCijKV1Xx",
        "colab_type": "text"
      },
      "cell_type": "markdown",
      "source": [
        "###Length\n",
        "The length of a sequence, i.e. a list, a string or a tuple, can be determined with the function len()."
      ]
    },
    {
      "metadata": {
        "id": "XTn_tYhKVvzz",
        "colab_type": "code",
        "colab": {
          "base_uri": "https://localhost:8080/",
          "height": 51
        },
        "outputId": "6fcfaed1-7952-42fc-dee5-302b04c8f126"
      },
      "cell_type": "code",
      "source": [
        "txt = \"Hello World\"\n",
        "a = [\"Swen\", 45, 3.54, \"Basel\"]\n",
        "print(len(txt))\n",
        "print(len(a))"
      ],
      "execution_count": 14,
      "outputs": [
        {
          "output_type": "stream",
          "text": [
            "11\n",
            "4\n"
          ],
          "name": "stdout"
        }
      ]
    },
    {
      "metadata": {
        "id": "qgYcDrU5WJv5",
        "colab_type": "code",
        "colab": {}
      },
      "cell_type": "code",
      "source": [
        ""
      ],
      "execution_count": 0,
      "outputs": []
    },
    {
      "metadata": {
        "id": "qX5g7bmgWTtq",
        "colab_type": "text"
      },
      "cell_type": "markdown",
      "source": [
        "###Checking if an Element is Contained in List\n",
        "It's easy to check, if an item is contained in a sequence. We can use the \"in\" or the \"not in\" operator for this purpose."
      ]
    },
    {
      "metadata": {
        "id": "DEX-2RxHVfDM",
        "colab_type": "code",
        "colab": {
          "base_uri": "https://localhost:8080/",
          "height": 51
        },
        "outputId": "ca067ffd-5f8c-49dd-ce1e-37df55b59987"
      },
      "cell_type": "code",
      "source": [
        "abc = [\"a\",\"b\",\"c\",\"d\",\"e\"]\n",
        "print(\"a\" in abc)\n",
        "print(\"a\" not in abc)"
      ],
      "execution_count": 15,
      "outputs": [
        {
          "output_type": "stream",
          "text": [
            "True\n",
            "False\n"
          ],
          "name": "stdout"
        }
      ]
    },
    {
      "metadata": {
        "id": "l_n7WEgdWfPq",
        "colab_type": "code",
        "colab": {}
      },
      "cell_type": "code",
      "source": [
        ""
      ],
      "execution_count": 0,
      "outputs": []
    },
    {
      "metadata": {
        "id": "WjFzSvT2Wi6i",
        "colab_type": "text"
      },
      "cell_type": "markdown",
      "source": [
        "###Repetitions\n",
        "There is no \"multiplication\" between two sequences possible. \"*\" is defined for a sequence and an integer, i.e. s * n or n * s. "
      ]
    },
    {
      "metadata": {
        "id": "a_02XpCeVKgy",
        "colab_type": "code",
        "colab": {
          "base_uri": "https://localhost:8080/",
          "height": 68
        },
        "outputId": "fd68af13-4ecb-4b16-c267-143e1f0421e4"
      },
      "cell_type": "code",
      "source": [
        "print(3 * \"xyz-\")\n",
        "x = [\"a\",\"b\",\"c\"]\n",
        "y = [x] * 4\n",
        "z = x * 4\n",
        "print(y)\n",
        "print(z)"
      ],
      "execution_count": 17,
      "outputs": [
        {
          "output_type": "stream",
          "text": [
            "xyz-xyz-xyz-\n",
            "[['a', 'b', 'c'], ['a', 'b', 'c'], ['a', 'b', 'c'], ['a', 'b', 'c']]\n",
            "['a', 'b', 'c', 'a', 'b', 'c', 'a', 'b', 'c', 'a', 'b', 'c']\n"
          ],
          "name": "stdout"
        }
      ]
    },
    {
      "metadata": {
        "id": "3jTVYb__XFa6",
        "colab_type": "code",
        "colab": {}
      },
      "cell_type": "code",
      "source": [
        ""
      ],
      "execution_count": 0,
      "outputs": []
    },
    {
      "metadata": {
        "id": "nLZu1QShW03T",
        "colab_type": "code",
        "colab": {}
      },
      "cell_type": "code",
      "source": [
        ""
      ],
      "execution_count": 0,
      "outputs": []
    },
    {
      "metadata": {
        "id": "yka8-SofVH8t",
        "colab_type": "code",
        "colab": {}
      },
      "cell_type": "code",
      "source": [
        ""
      ],
      "execution_count": 0,
      "outputs": []
    },
    {
      "metadata": {
        "id": "zjFZxAIaVERJ",
        "colab_type": "code",
        "colab": {}
      },
      "cell_type": "code",
      "source": [
        ""
      ],
      "execution_count": 0,
      "outputs": []
    },
    {
      "metadata": {
        "id": "F0fzkZx0Xmve",
        "colab_type": "text"
      },
      "cell_type": "markdown",
      "source": [
        ""
      ]
    },
    {
      "metadata": {
        "id": "WOBTdkekXZMQ",
        "colab_type": "text"
      },
      "cell_type": "markdown",
      "source": [
        "#Lists"
      ]
    },
    {
      "metadata": {
        "id": "60L7sn--Xn0j",
        "colab_type": "text"
      },
      "cell_type": "markdown",
      "source": [
        "##Changing lists\n"
      ]
    },
    {
      "metadata": {
        "id": "an982HECcILi",
        "colab_type": "text"
      },
      "cell_type": "markdown",
      "source": [
        "A list can be seen as a stack\n",
        "* **push**: \n",
        "This method is used to put a new object on the stack. Depending on the point of view, we say that we \"push\" the object on top or attach it to the right side. Python doesn't offer - contrary to other programming languages - no method with the name \"push\", but the method \"append\" has the same functionality.\n",
        "* **pop** :\n",
        "This method returns the most upper element of the stack. The object will be removed from the stack as well.\n",
        "* **peek** :\n",
        "Some programming languages provide another method, which can be used to view what is on the top of the stack without removing this element. The Python list class doesn't possess such a method, because it is not needed. A peek can be simulated by accessing the element with the index -1"
      ]
    },
    {
      "metadata": {
        "id": "YcW_mbeWX_TZ",
        "colab_type": "code",
        "colab": {
          "base_uri": "https://localhost:8080/",
          "height": 232
        },
        "outputId": "0831f485-054d-4d39-c549-a73154157b8d"
      },
      "cell_type": "code",
      "source": [
        "lst = [\"easy\", \"simple\", \"cheap\", \"free\"]\n",
        "t1 = lst.pop()\n",
        "lst.push(\"hello\")\n",
        "t2 = lst.pop()\n",
        "print(t1 + \" __ \" + t2)"
      ],
      "execution_count": 21,
      "outputs": [
        {
          "output_type": "error",
          "ename": "AttributeError",
          "evalue": "ignored",
          "traceback": [
            "\u001b[0;31m---------------------------------------------------------------------------\u001b[0m",
            "\u001b[0;31mAttributeError\u001b[0m                            Traceback (most recent call last)",
            "\u001b[0;32m<ipython-input-21-14f6962cf818>\u001b[0m in \u001b[0;36m<module>\u001b[0;34m()\u001b[0m\n\u001b[1;32m      1\u001b[0m \u001b[0mlst\u001b[0m \u001b[0;34m=\u001b[0m \u001b[0;34m[\u001b[0m\u001b[0;34m\"easy\"\u001b[0m\u001b[0;34m,\u001b[0m \u001b[0;34m\"simple\"\u001b[0m\u001b[0;34m,\u001b[0m \u001b[0;34m\"cheap\"\u001b[0m\u001b[0;34m,\u001b[0m \u001b[0;34m\"free\"\u001b[0m\u001b[0;34m]\u001b[0m\u001b[0;34m\u001b[0m\u001b[0m\n\u001b[1;32m      2\u001b[0m \u001b[0mt1\u001b[0m \u001b[0;34m=\u001b[0m \u001b[0mlst\u001b[0m\u001b[0;34m.\u001b[0m\u001b[0mpop\u001b[0m\u001b[0;34m(\u001b[0m\u001b[0;34m)\u001b[0m\u001b[0;34m\u001b[0m\u001b[0m\n\u001b[0;32m----> 3\u001b[0;31m \u001b[0mlst\u001b[0m\u001b[0;34m.\u001b[0m\u001b[0mpush\u001b[0m\u001b[0;34m(\u001b[0m\u001b[0;34m\"hello\"\u001b[0m\u001b[0;34m)\u001b[0m\u001b[0;34m\u001b[0m\u001b[0m\n\u001b[0m\u001b[1;32m      4\u001b[0m \u001b[0mt2\u001b[0m \u001b[0;34m=\u001b[0m \u001b[0mlst\u001b[0m\u001b[0;34m.\u001b[0m\u001b[0mpop\u001b[0m\u001b[0;34m(\u001b[0m\u001b[0;34m)\u001b[0m\u001b[0;34m\u001b[0m\u001b[0m\n\u001b[1;32m      5\u001b[0m \u001b[0mprint\u001b[0m\u001b[0;34m(\u001b[0m\u001b[0mt1\u001b[0m \u001b[0;34m+\u001b[0m \u001b[0;34m\" __ \"\u001b[0m \u001b[0;34m+\u001b[0m \u001b[0mt2\u001b[0m\u001b[0;34m)\u001b[0m\u001b[0;34m\u001b[0m\u001b[0m\n",
            "\u001b[0;31mAttributeError\u001b[0m: 'list' object has no attribute 'push'"
          ]
        }
      ]
    },
    {
      "metadata": {
        "id": "Rc-8mglOYYI8",
        "colab_type": "code",
        "colab": {}
      },
      "cell_type": "code",
      "source": [
        ""
      ],
      "execution_count": 0,
      "outputs": []
    },
    {
      "metadata": {
        "id": "cbvp-NdEYMiC",
        "colab_type": "code",
        "colab": {}
      },
      "cell_type": "code",
      "source": [
        ""
      ],
      "execution_count": 0,
      "outputs": []
    },
    {
      "metadata": {
        "id": "liY2Fuo_YKug",
        "colab_type": "code",
        "colab": {}
      },
      "cell_type": "code",
      "source": [
        ""
      ],
      "execution_count": 0,
      "outputs": []
    },
    {
      "metadata": {
        "id": "qUOCAZv5YGoj",
        "colab_type": "code",
        "colab": {}
      },
      "cell_type": "code",
      "source": [
        ""
      ],
      "execution_count": 0,
      "outputs": []
    },
    {
      "metadata": {
        "id": "5VBic0WuYgi5",
        "colab_type": "text"
      },
      "cell_type": "markdown",
      "source": [
        "##pop and append\n"
      ]
    },
    {
      "metadata": {
        "id": "eus7hMmhcNIg",
        "colab_type": "text"
      },
      "cell_type": "markdown",
      "source": [
        "* **s.append(x)**\n",
        "This method appends an element to the end of the list \"s\".\n",
        "* **s.pop(i)**\n",
        "'pop' returns the ith element of a list s. The element will be removed from the list as well. It raises an IndexError exception if the list is empty or the index is out of range."
      ]
    },
    {
      "metadata": {
        "id": "Q2NhORmFZCax",
        "colab_type": "code",
        "colab": {
          "base_uri": "https://localhost:8080/",
          "height": 34
        },
        "outputId": "bf394947-1a35-463c-eb4c-1a5bcc2203fc"
      },
      "cell_type": "code",
      "source": [
        "lst = [3, 5, 7]\n",
        "lst.append(42)\n",
        "lst"
      ],
      "execution_count": 22,
      "outputs": [
        {
          "output_type": "execute_result",
          "data": {
            "text/plain": [
              "[3, 5, 7, 42]"
            ]
          },
          "metadata": {
            "tags": []
          },
          "execution_count": 22
        }
      ]
    },
    {
      "metadata": {
        "id": "yRyO7GXrZE2I",
        "colab_type": "code",
        "colab": {
          "base_uri": "https://localhost:8080/",
          "height": 34
        },
        "outputId": "1f09627d-0c9f-45bc-b410-7561ffb4e985"
      },
      "cell_type": "code",
      "source": [
        "cities = [\"Hamburg\", \"Linz\", \"Salzburg\", \"Vienna\"]\n",
        "cities.pop(1)\n",
        "cities\n"
      ],
      "execution_count": 23,
      "outputs": [
        {
          "output_type": "execute_result",
          "data": {
            "text/plain": [
              "['Hamburg', 'Salzburg', 'Vienna']"
            ]
          },
          "metadata": {
            "tags": []
          },
          "execution_count": 23
        }
      ]
    },
    {
      "metadata": {
        "id": "8GZBfIPOZNWq",
        "colab_type": "code",
        "colab": {}
      },
      "cell_type": "code",
      "source": [
        ""
      ],
      "execution_count": 0,
      "outputs": []
    },
    {
      "metadata": {
        "id": "xlk0PpeGaRQA",
        "colab_type": "text"
      },
      "cell_type": "markdown",
      "source": [
        "There is an alternative to 'append' and 'extend'. '+' can be used to combine lists"
      ]
    },
    {
      "metadata": {
        "id": "SjGhKXzeaS2E",
        "colab_type": "code",
        "colab": {
          "base_uri": "https://localhost:8080/",
          "height": 68
        },
        "outputId": "4275b578-a9b3-4555-a090-8b3ba9130f7f"
      },
      "cell_type": "code",
      "source": [
        "import time\n",
        "\n",
        "n= 100000\n",
        "\n",
        "start_time = time.time()\n",
        "l = []\n",
        "for i in range(n):\n",
        "    l = l + [i * 2]\n",
        "print(time.time() - start_time)\n",
        "\n",
        "start_time = time.time()\n",
        "l = []\n",
        "for i in range(n):\n",
        "    l += [i * 2]\n",
        "print(time.time() - start_time)\n",
        "\n",
        "start_time = time.time()\n",
        "l = []\n",
        "for i in range(n):\n",
        "    l.append(i * 2)\n",
        "print(time.time() - start_time)"
      ],
      "execution_count": 26,
      "outputs": [
        {
          "output_type": "stream",
          "text": [
            "22.590250730514526\n",
            "0.024043560028076172\n",
            "0.020639419555664062\n"
          ],
          "name": "stdout"
        }
      ]
    },
    {
      "metadata": {
        "id": "HGCgxbuLaVPN",
        "colab_type": "code",
        "colab": {}
      },
      "cell_type": "code",
      "source": [
        ""
      ],
      "execution_count": 0,
      "outputs": []
    },
    {
      "metadata": {
        "id": "eA4wkGRCZRSA",
        "colab_type": "text"
      },
      "cell_type": "markdown",
      "source": [
        "##extend"
      ]
    },
    {
      "metadata": {
        "id": "ypgZFjwRcS9w",
        "colab_type": "text"
      },
      "cell_type": "markdown",
      "source": [
        "\n",
        "Using when you  adding more than one element to a list"
      ]
    },
    {
      "metadata": {
        "id": "esd3ESBQZqQJ",
        "colab_type": "code",
        "colab": {
          "base_uri": "https://localhost:8080/",
          "height": 34
        },
        "outputId": "8043f3fc-114d-4c25-dec5-41ece3d71495"
      },
      "cell_type": "code",
      "source": [
        "#test with append\n",
        "lst = [42,98,77]\n",
        "lst2 = [8,69]\n",
        "lst.append(lst2)\n",
        "lst\n"
      ],
      "execution_count": 24,
      "outputs": [
        {
          "output_type": "execute_result",
          "data": {
            "text/plain": [
              "[42, 98, 77, [8, 69]]"
            ]
          },
          "metadata": {
            "tags": []
          },
          "execution_count": 24
        }
      ]
    },
    {
      "metadata": {
        "id": "FLmP9q8YZ1Qy",
        "colab_type": "code",
        "colab": {
          "base_uri": "https://localhost:8080/",
          "height": 34
        },
        "outputId": "03025b63-b953-4c07-bd80-4aa1662dbbef"
      },
      "cell_type": "code",
      "source": [
        "#test with extend\n",
        "lst = [42,98,77]\n",
        "lst2 = [8,69]\n",
        "lst.extend(lst2)\n",
        "lst"
      ],
      "execution_count": 25,
      "outputs": [
        {
          "output_type": "execute_result",
          "data": {
            "text/plain": [
              "[42, 98, 77, 8, 69]"
            ]
          },
          "metadata": {
            "tags": []
          },
          "execution_count": 25
        }
      ]
    },
    {
      "metadata": {
        "id": "s8WTPJszZ-LP",
        "colab_type": "code",
        "colab": {}
      },
      "cell_type": "code",
      "source": [
        ""
      ],
      "execution_count": 0,
      "outputs": []
    },
    {
      "metadata": {
        "id": "-54nI7Rjagwc",
        "colab_type": "text"
      },
      "cell_type": "markdown",
      "source": [
        "##Removing\n"
      ]
    },
    {
      "metadata": {
        "id": "Jgf5_q1rcYYS",
        "colab_type": "text"
      },
      "cell_type": "markdown",
      "source": [
        "It is possible to remove with the method \"remove\" a certain value from a list without knowing the position.\n",
        "If x is not contained in the list, a ValueError will be raised\n",
        "\n",
        "\n",
        "**s.remove(x)**"
      ]
    },
    {
      "metadata": {
        "id": "fiFIdXoraq1C",
        "colab_type": "code",
        "colab": {
          "base_uri": "https://localhost:8080/",
          "height": 34
        },
        "outputId": "5ee35a80-4758-4239-c2b7-6d9bef8ecb21"
      },
      "cell_type": "code",
      "source": [
        "colours = [\"red\", \"green\", \"blue\", \"green\", \"yellow\"]\n",
        "colours.remove(\"green\")\n",
        "colours"
      ],
      "execution_count": 27,
      "outputs": [
        {
          "output_type": "execute_result",
          "data": {
            "text/plain": [
              "['red', 'blue', 'green', 'yellow']"
            ]
          },
          "metadata": {
            "tags": []
          },
          "execution_count": 27
        }
      ]
    },
    {
      "metadata": {
        "id": "Y24FXnABatg8",
        "colab_type": "code",
        "colab": {}
      },
      "cell_type": "code",
      "source": [
        ""
      ],
      "execution_count": 0,
      "outputs": []
    },
    {
      "metadata": {
        "id": "LBw9PdZ7a4Yj",
        "colab_type": "text"
      },
      "cell_type": "markdown",
      "source": [
        "##Find the Position\n"
      ]
    },
    {
      "metadata": {
        "id": "nb36FBoScent",
        "colab_type": "text"
      },
      "cell_type": "markdown",
      "source": [
        "The method \"index\" can be used to find the position of an element within a list:\n",
        "\n",
        "s.index(x[, i[, j]])\n",
        "\n",
        "It returns the first index of the value x. A ValueError will be raised, if the value is not present. If the optional parameter i is given, the search will start at the index i. If j is also given, the search will stop at position j. **( i <= x < j)**"
      ]
    },
    {
      "metadata": {
        "id": "Mr2EJBs4bIGX",
        "colab_type": "code",
        "colab": {
          "base_uri": "https://localhost:8080/",
          "height": 51
        },
        "outputId": "5fdd62e4-15bf-4c81-ecf2-affb799127ef"
      },
      "cell_type": "code",
      "source": [
        "colours = [\"red\", \"green\", \"blue\", \"green\", \"yellow\"]\n",
        "case1 = colours.index(\"green\")\n",
        "case2 = colours.index(\"green\", 2)\n",
        "#case3 = colours.index(\"green\", 2,3) => this will raise ErrorValue\n",
        "print(case1)\n",
        "print(case2)\n"
      ],
      "execution_count": 29,
      "outputs": [
        {
          "output_type": "stream",
          "text": [
            "1\n",
            "3\n"
          ],
          "name": "stdout"
        }
      ]
    },
    {
      "metadata": {
        "id": "G_dfDtVNbaiS",
        "colab_type": "code",
        "colab": {}
      },
      "cell_type": "code",
      "source": [
        ""
      ],
      "execution_count": 0,
      "outputs": []
    },
    {
      "metadata": {
        "id": "xofqstGlbr6S",
        "colab_type": "text"
      },
      "cell_type": "markdown",
      "source": [
        "## insert\n"
      ]
    },
    {
      "metadata": {
        "id": "BMgkdSp7cjst",
        "colab_type": "text"
      },
      "cell_type": "markdown",
      "source": [
        "We have learned that we can put an element to the end of a list by using the method \"append\". To work efficiently with a list, we need also a way to add elements to arbitrary positions inside of a list. This can be done with the method \"insert\":\n",
        "\n",
        "s.insert(index, object)"
      ]
    },
    {
      "metadata": {
        "id": "49UHm0C_bVx8",
        "colab_type": "code",
        "colab": {
          "base_uri": "https://localhost:8080/",
          "height": 34
        },
        "outputId": "a2a8282a-0ef8-4ff2-dcec-9f49165f4455"
      },
      "cell_type": "code",
      "source": [
        "lst = [\"German is spoken\", \"in Germany,\", \"Austria\", \"Switzerland\"]\n",
        "lst.insert(3, \"and\")\n",
        "lst"
      ],
      "execution_count": 30,
      "outputs": [
        {
          "output_type": "execute_result",
          "data": {
            "text/plain": [
              "['German is spoken', 'in Germany,', 'Austria', 'and', 'Switzerland']"
            ]
          },
          "metadata": {
            "tags": []
          },
          "execution_count": 30
        }
      ]
    },
    {
      "metadata": {
        "id": "qtfrVbPeb3yQ",
        "colab_type": "code",
        "colab": {}
      },
      "cell_type": "code",
      "source": [
        ""
      ],
      "execution_count": 0,
      "outputs": []
    },
    {
      "metadata": {
        "id": "Lw2vUEGedBrj",
        "colab_type": "text"
      },
      "cell_type": "markdown",
      "source": [
        "# Dictionaries"
      ]
    },
    {
      "metadata": {
        "id": "NOhnGmk9dOsU",
        "colab_type": "text"
      },
      "cell_type": "markdown",
      "source": [
        "A list is an ordered sequence of objects, whereas dictionaries are unordered sets. But the main difference is that items in dictionaries are accessed via keys and not via their position\n",
        "\n",
        "Dictionaries don't support the sequence operation of the sequence data types like strings, tuples and lists. Dictionaries belong to the built-in mapping type, but so far they are the sole representative of this kind\n",
        "\n",
        " if we try to access a key, i.e. a city, which is not contained in the dictionary, We raise a KeyError"
      ]
    },
    {
      "metadata": {
        "id": "JqudSR7KdfqH",
        "colab_type": "code",
        "colab": {
          "base_uri": "https://localhost:8080/",
          "height": 51
        },
        "outputId": "ff25f297-0548-449e-8f1f-f9f152def440"
      },
      "cell_type": "code",
      "source": [
        "food = {\"ham\" : \"yes\", \"egg\" : \"yes\", \"spam\" : \"no\" }\n",
        "print(food[\"ham\"])\n",
        "food[\"spam\"] = \"yes\"\n",
        "print(food)"
      ],
      "execution_count": 32,
      "outputs": [
        {
          "output_type": "stream",
          "text": [
            "yes\n",
            "{'ham': 'yes', 'egg': 'yes', 'spam': 'yes'}\n"
          ],
          "name": "stdout"
        }
      ]
    },
    {
      "metadata": {
        "id": "blk-O8WCd-55",
        "colab_type": "code",
        "colab": {}
      },
      "cell_type": "code",
      "source": [
        ""
      ],
      "execution_count": 0,
      "outputs": []
    },
    {
      "metadata": {
        "id": "47_tZA52dh8i",
        "colab_type": "code",
        "colab": {}
      },
      "cell_type": "code",
      "source": [
        ""
      ],
      "execution_count": 0,
      "outputs": []
    },
    {
      "metadata": {
        "id": "Xvv_OIvPeH14",
        "colab_type": "text"
      },
      "cell_type": "markdown",
      "source": [
        "##Operators on Dictionaries\n",
        "* **len(d)**\n",
        "returns the number of stored entries, i.e. the number of (key,value) pairs.\n",
        "* **del d[k]**\n",
        "deletes the key k together with his value\n",
        "* **k in d**\n",
        "True, if a key k exists in the dictionary d\n",
        "* **k not in d**\n",
        "True, if a key k doesn't exist in the dictionary d"
      ]
    },
    {
      "metadata": {
        "id": "u2LfDNjievuy",
        "colab_type": "text"
      },
      "cell_type": "markdown",
      "source": [
        "##pop() and popitem()"
      ]
    },
    {
      "metadata": {
        "id": "ZcV-vm6leyGm",
        "colab_type": "text"
      },
      "cell_type": "markdown",
      "source": [
        "### Pop"
      ]
    },
    {
      "metadata": {
        "id": "wn8Q38Ace7Dr",
        "colab_type": "text"
      },
      "cell_type": "markdown",
      "source": [
        "* If D is a dictionary, then D.pop(k) removes the key k with its value from the dictionary D and returns the corresponding value as the return value, i.e. D[k]. \n",
        "* If the key is not found a KeyError is raised"
      ]
    },
    {
      "metadata": {
        "id": "4PZlmrqIe9m4",
        "colab_type": "code",
        "colab": {
          "base_uri": "https://localhost:8080/",
          "height": 51
        },
        "outputId": "6c4eed82-6793-45c9-e128-3625992cfec3"
      },
      "cell_type": "code",
      "source": [
        "capitals = {\"Austria\":\"Vienna\", \"Germany\":\"Berlin\", \"Netherlands\":\"Amsterdam\"}\n",
        "capital = capitals.pop(\"Austria\")\n",
        "print(capital)\n",
        "print(capitals)"
      ],
      "execution_count": 33,
      "outputs": [
        {
          "output_type": "stream",
          "text": [
            "Vienna\n",
            "{'Germany': 'Berlin', 'Netherlands': 'Amsterdam'}\n"
          ],
          "name": "stdout"
        }
      ]
    },
    {
      "metadata": {
        "id": "dJcCH6n9fKNX",
        "colab_type": "code",
        "colab": {}
      },
      "cell_type": "code",
      "source": [
        ""
      ],
      "execution_count": 0,
      "outputs": []
    },
    {
      "metadata": {
        "id": "-1d8d3rvfQyT",
        "colab_type": "text"
      },
      "cell_type": "markdown",
      "source": [
        "###popitem\n"
      ]
    },
    {
      "metadata": {
        "id": "deahHUv2fSXU",
        "colab_type": "text"
      },
      "cell_type": "markdown",
      "source": [
        "**popitem() **is a method of dict, which doesn't take any parameter and removes and returns an arbitrary (key,value) pair as a 2-tuple. \n",
        "\n",
        "If popitem() is applied on an empty dictionary, a KeyError will be raised."
      ]
    },
    {
      "metadata": {
        "id": "FHAoNqeWfdgf",
        "colab_type": "code",
        "colab": {
          "base_uri": "https://localhost:8080/",
          "height": 34
        },
        "outputId": "89037192-32d3-4004-fa9f-8a88f87d1a01"
      },
      "cell_type": "code",
      "source": [
        "capitals = {\"Springfield\":\"Illinois\", \"Augusta\":\"Maine\", \"Boston\": \"Massachusetts\", \"Lansing\":\"Michigan\", \"Albany\":\"New York\", \"Olympia\":\"Washington\", \"Toronto\":\"Ontario\"}\n",
        "(city, state) = capitals.popitem()\n",
        "(city, state)\n"
      ],
      "execution_count": 38,
      "outputs": [
        {
          "output_type": "execute_result",
          "data": {
            "text/plain": [
              "('Toronto', 'Ontario')"
            ]
          },
          "metadata": {
            "tags": []
          },
          "execution_count": 38
        }
      ]
    },
    {
      "metadata": {
        "id": "Ye0EDpsff6OJ",
        "colab_type": "code",
        "colab": {}
      },
      "cell_type": "code",
      "source": [
        ""
      ],
      "execution_count": 0,
      "outputs": []
    },
    {
      "metadata": {
        "id": "IlBMCAuugVLW",
        "colab_type": "text"
      },
      "cell_type": "markdown",
      "source": [
        "##Update: Merging Dictionaries"
      ]
    },
    {
      "metadata": {
        "id": "kQA3RtSkgWOn",
        "colab_type": "text"
      },
      "cell_type": "markdown",
      "source": [
        "What about concatenating dictionaries, like we did with lists?\n",
        "\n",
        "There is someting similar for dictionaries: the update method\n",
        "update() merges the keys and values of one dictionary into another, overwriting values of the same key"
      ]
    },
    {
      "metadata": {
        "id": "p7z-lT85f22q",
        "colab_type": "code",
        "colab": {
          "base_uri": "https://localhost:8080/",
          "height": 34
        },
        "outputId": "d70a85ab-4503-4540-d9d7-65167019c86e"
      },
      "cell_type": "code",
      "source": [
        "knowledge = {\"Frank\": {\"Perl\"}, \"Monica\":{\"C\",\"C++\"}}\n",
        "knowledge2 = {\"Guido\":{\"Python\"}, \"Frank\":{\"Perl\", \"Python\"}}\n",
        "knowledge.update(knowledge2)\n",
        "knowledge"
      ],
      "execution_count": 39,
      "outputs": [
        {
          "output_type": "execute_result",
          "data": {
            "text/plain": [
              "{'Frank': {'Perl', 'Python'}, 'Guido': {'Python'}, 'Monica': {'C', 'C++'}}"
            ]
          },
          "metadata": {
            "tags": []
          },
          "execution_count": 39
        }
      ]
    },
    {
      "metadata": {
        "id": "J9QnZ3rAgick",
        "colab_type": "code",
        "colab": {}
      },
      "cell_type": "code",
      "source": [
        ""
      ],
      "execution_count": 0,
      "outputs": []
    },
    {
      "metadata": {
        "id": "YkZUuZ1ngq3t",
        "colab_type": "text"
      },
      "cell_type": "markdown",
      "source": [
        "##Iterating over a Dictionary\n"
      ]
    },
    {
      "metadata": {
        "id": "eJAKmzingsoe",
        "colab_type": "text"
      },
      "cell_type": "markdown",
      "source": [
        "* **keys()** : return list of key in dictionary\n",
        "* **values() ** : return list of value in dictionary"
      ]
    },
    {
      "metadata": {
        "id": "K9A47eCmf0ri",
        "colab_type": "code",
        "colab": {
          "base_uri": "https://localhost:8080/",
          "height": 85
        },
        "outputId": "acdcba4d-2f7d-47c0-f2a7-4e7c38bf75e5"
      },
      "cell_type": "code",
      "source": [
        "d = {\"a\":123, \"b\":34, \"c\":304, \"d\":99}\n",
        "for key in d.keys():\n",
        "  print(key)\n",
        "  "
      ],
      "execution_count": 40,
      "outputs": [
        {
          "output_type": "stream",
          "text": [
            "a\n",
            "b\n",
            "c\n",
            "d\n"
          ],
          "name": "stdout"
        }
      ]
    },
    {
      "metadata": {
        "id": "-Q8Hv2YQhFyd",
        "colab_type": "code",
        "colab": {
          "base_uri": "https://localhost:8080/",
          "height": 85
        },
        "outputId": "8a014d0e-7ac9-4d1f-ea51-fa2e7a7bc03a"
      },
      "cell_type": "code",
      "source": [
        "for value in d.values():\n",
        "  print(value)"
      ],
      "execution_count": 41,
      "outputs": [
        {
          "output_type": "stream",
          "text": [
            "123\n",
            "34\n",
            "304\n",
            "99\n"
          ],
          "name": "stdout"
        }
      ]
    },
    {
      "metadata": {
        "id": "o5lrTkmphJhj",
        "colab_type": "code",
        "colab": {
          "base_uri": "https://localhost:8080/",
          "height": 85
        },
        "outputId": "14a08761-e7ed-4c81-a82f-75fbd3003fcd"
      },
      "cell_type": "code",
      "source": [
        "for key in d:\n",
        "  print(d[key])"
      ],
      "execution_count": 42,
      "outputs": [
        {
          "output_type": "stream",
          "text": [
            "123\n",
            "34\n",
            "304\n",
            "99\n"
          ],
          "name": "stdout"
        }
      ]
    },
    {
      "metadata": {
        "id": "6rdV4CpihPEc",
        "colab_type": "code",
        "colab": {}
      },
      "cell_type": "code",
      "source": [
        ""
      ],
      "execution_count": 0,
      "outputs": []
    },
    {
      "metadata": {
        "id": "lqlKD-3ifvBW",
        "colab_type": "code",
        "colab": {}
      },
      "cell_type": "code",
      "source": [
        ""
      ],
      "execution_count": 0,
      "outputs": []
    },
    {
      "metadata": {
        "id": "ABoQOh-3fvGA",
        "colab_type": "code",
        "colab": {}
      },
      "cell_type": "code",
      "source": [
        ""
      ],
      "execution_count": 0,
      "outputs": []
    },
    {
      "metadata": {
        "id": "1KE7g_MBffFO",
        "colab_type": "code",
        "colab": {}
      },
      "cell_type": "code",
      "source": [
        ""
      ],
      "execution_count": 0,
      "outputs": []
    },
    {
      "metadata": {
        "id": "Yy8vnapGiazP",
        "colab_type": "text"
      },
      "cell_type": "markdown",
      "source": [
        "# Conditional Statements\n"
      ]
    },
    {
      "metadata": {
        "id": "x1Xe-TnQidDS",
        "colab_type": "text"
      },
      "cell_type": "markdown",
      "source": [
        "**structure** :\n",
        "\n",
        "  if condition_1:\n",
        "  \n",
        "    statement_block_1\n",
        "    \n",
        "elif condition_2:\n",
        "\n",
        "    statement_block_2\n",
        "\n",
        "...\n",
        "\n",
        "elif another_condition:    \n",
        "\n",
        "    another_statement_block\n",
        "    \n",
        "else:\n",
        "\n",
        "    else_block"
      ]
    },
    {
      "metadata": {
        "id": "d8nGqAyVizRm",
        "colab_type": "code",
        "colab": {
          "base_uri": "https://localhost:8080/",
          "height": 68
        },
        "outputId": "648bff98-a1ab-4a20-8690-62c80dfe3b24"
      },
      "cell_type": "code",
      "source": [
        "age = int(input(\"Age of the dog: \"))\n",
        "print()\n",
        "if age < 1:\n",
        "  print(\"This can hardly be true!\")\n",
        "elif age == 1:\n",
        "  printf(\"about 14 human years\")\n",
        "elif age == 2:\n",
        "  printf(\"about 22 human years\")\n",
        "elif age > 2:\n",
        "  human = 22 + (age -2 ) * 5\n",
        "  print(\"Human years: \" , human)"
      ],
      "execution_count": 44,
      "outputs": [
        {
          "output_type": "stream",
          "text": [
            "Age of the dog: 4\n",
            "\n",
            "Human years:  32\n"
          ],
          "name": "stdout"
        }
      ]
    },
    {
      "metadata": {
        "id": "VBZHE1uFjSlu",
        "colab_type": "code",
        "colab": {}
      },
      "cell_type": "code",
      "source": [
        ""
      ],
      "execution_count": 0,
      "outputs": []
    },
    {
      "metadata": {
        "id": "BSiHywMajPqD",
        "colab_type": "code",
        "colab": {}
      },
      "cell_type": "code",
      "source": [
        ""
      ],
      "execution_count": 0,
      "outputs": []
    },
    {
      "metadata": {
        "id": "sFzNX51Hj0ee",
        "colab_type": "text"
      },
      "cell_type": "markdown",
      "source": [
        "# Loops\n"
      ]
    },
    {
      "metadata": {
        "id": "4kFEYn4AkX6N",
        "colab_type": "text"
      },
      "cell_type": "markdown",
      "source": [
        "## While Loop"
      ]
    },
    {
      "metadata": {
        "id": "kfhAkECTka6P",
        "colab_type": "text"
      },
      "cell_type": "markdown",
      "source": [
        "Structure :\n",
        "\n",
        "```\n",
        "#while condition:\n",
        "\tstatement_1\n",
        "\t...\n",
        "\tstatement_n\n",
        "else:\n",
        "\tstatement_1\n",
        "\t...\n",
        "\tstatement_n\n",
        "\n",
        "```\n",
        "\n"
      ]
    },
    {
      "metadata": {
        "id": "e11jFrJvk2b3",
        "colab_type": "code",
        "colab": {
          "base_uri": "https://localhost:8080/",
          "height": 102
        },
        "outputId": "b184fd90-8dce-4121-fdfa-1fa48075159b"
      },
      "cell_type": "code",
      "source": [
        "import random\n",
        "n = 10\n",
        "to_be_guessed = int(n * random.random()) + 1\n",
        "guess = 0;\n",
        "while guess != to_be_guessed:\n",
        "  guess = int(input(\"New number:\"))\n",
        "  if guess > 0:\n",
        "    if(guess > to_be_guessed):\n",
        "      print(\"Number too large\")\n",
        "    else:\n",
        "      print(\"Number too small\")\n",
        "  else:\n",
        "    print(\"Sorry, that you're giving up!\")\n",
        "    break\n",
        "else:\n",
        "  print(\"Congratulateion. You made it!\")\n"
      ],
      "execution_count": 45,
      "outputs": [
        {
          "output_type": "stream",
          "text": [
            "New number:4\n",
            "Number too large\n",
            "New number:1\n",
            "Number too small\n",
            "Congratulateion. You made it!\n"
          ],
          "name": "stdout"
        }
      ]
    },
    {
      "metadata": {
        "id": "2ktlVBj-ln_k",
        "colab_type": "code",
        "colab": {}
      },
      "cell_type": "code",
      "source": [
        ""
      ],
      "execution_count": 0,
      "outputs": []
    },
    {
      "metadata": {
        "id": "uA_xZKRV_AlP",
        "colab_type": "text"
      },
      "cell_type": "markdown",
      "source": [
        "##For Loop"
      ]
    },
    {
      "metadata": {
        "id": "WTsh8_df_DWg",
        "colab_type": "text"
      },
      "cell_type": "markdown",
      "source": [
        "Structure:\n",
        "\n",
        "```\n",
        "for <variable> in <sequence>:\n",
        "\t<statements>\n",
        "else:\n",
        "\t<statements>\n",
        "```\n",
        "\n"
      ]
    },
    {
      "metadata": {
        "id": "MWxNmcEY_15P",
        "colab_type": "code",
        "colab": {
          "base_uri": "https://localhost:8080/",
          "height": 68
        },
        "outputId": "76050dfd-575c-4547-93fb-8e5226a0e53d"
      },
      "cell_type": "code",
      "source": [
        "edibles = [\"ham\", \"spam\", \"eggs\", \"nuts\"]\n",
        "for food in edibles :\n",
        "  if(food == \"spam\") :\n",
        "    print(\"no more spam, please\")\n",
        "    break\n",
        "  print(\"Great, delecious \" , food)\n",
        "else :\n",
        "  print(\"I'm so glad no spam\")\n",
        "print(\"Finally, I finished stuffing myself\")"
      ],
      "execution_count": 48,
      "outputs": [
        {
          "output_type": "stream",
          "text": [
            "Great, delecious  ham\n",
            "no more spam, please\n",
            "Finally, I finished stuffing myself\n"
          ],
          "name": "stdout"
        }
      ]
    },
    {
      "metadata": {
        "id": "MhGPXvO8Atev",
        "colab_type": "text"
      },
      "cell_type": "markdown",
      "source": [
        "## Range() Function"
      ]
    },
    {
      "metadata": {
        "id": "tTidk1BVA3GP",
        "colab_type": "text"
      },
      "cell_type": "markdown",
      "source": [
        "Structure:\n",
        "\n",
        "\n",
        "```\n",
        "range(begin,end, step)\n",
        "```\n",
        "\n"
      ]
    },
    {
      "metadata": {
        "id": "LRNv-AbeA-X3",
        "colab_type": "code",
        "colab": {
          "base_uri": "https://localhost:8080/",
          "height": 34
        },
        "outputId": "4f3dabe2-cde6-4c25-dc8d-23b4751615c5"
      },
      "cell_type": "code",
      "source": [
        "list(range(4,50,5))\n"
      ],
      "execution_count": 49,
      "outputs": [
        {
          "output_type": "execute_result",
          "data": {
            "text/plain": [
              "[4, 9, 14, 19, 24, 29, 34, 39, 44, 49]"
            ]
          },
          "metadata": {
            "tags": []
          },
          "execution_count": 49
        }
      ]
    },
    {
      "metadata": {
        "id": "GkaCaEvGA_Sa",
        "colab_type": "code",
        "colab": {}
      },
      "cell_type": "code",
      "source": [
        ""
      ],
      "execution_count": 0,
      "outputs": []
    },
    {
      "metadata": {
        "id": "zKRCfhsdBUE3",
        "colab_type": "text"
      },
      "cell_type": "markdown",
      "source": [
        "#Functions"
      ]
    },
    {
      "metadata": {
        "id": "ZCOmN7xxBlQ5",
        "colab_type": "text"
      },
      "cell_type": "markdown",
      "source": [
        "Structure :\n",
        "\n",
        "\n",
        "```\n",
        "def function-name(Parameter list):\n",
        "    statements, i.e. the function body\n",
        "```\n",
        "\n"
      ]
    },
    {
      "metadata": {
        "id": "kJADH6zJBxHO",
        "colab_type": "code",
        "colab": {
          "base_uri": "https://localhost:8080/",
          "height": 34
        },
        "outputId": "65d2e0d6-74c7-4d10-9362-95d71c69e7b4"
      },
      "cell_type": "code",
      "source": [
        "def HelloPeople(name = \"Dat\") :\n",
        "  print(\"Xin chao \", name)\n",
        "\n",
        "HelloPeople(\"Nam\")"
      ],
      "execution_count": 51,
      "outputs": [
        {
          "output_type": "stream",
          "text": [
            "Xin chao  Nam\n"
          ],
          "name": "stdout"
        }
      ]
    },
    {
      "metadata": {
        "id": "Vak0MQJOB8vG",
        "colab_type": "code",
        "colab": {}
      },
      "cell_type": "code",
      "source": [
        ""
      ],
      "execution_count": 0,
      "outputs": []
    },
    {
      "metadata": {
        "id": "K6QnaCKHCWsf",
        "colab_type": "text"
      },
      "cell_type": "markdown",
      "source": [
        "## Returning Multiple Values"
      ]
    },
    {
      "metadata": {
        "id": "ZNjpQmBZCYEv",
        "colab_type": "text"
      },
      "cell_type": "markdown",
      "source": [
        "A function can return exactly one value, or we should better say one object"
      ]
    },
    {
      "metadata": {
        "id": "TNPFT0nJB6pi",
        "colab_type": "code",
        "colab": {
          "base_uri": "https://localhost:8080/",
          "height": 85
        },
        "outputId": "b6c582bb-cd07-420a-c12c-b4cabb894dcc"
      },
      "cell_type": "code",
      "source": [
        "def fib_intervall(x):\n",
        "    \"\"\" returns the largest fibonacci\n",
        "    number smaller than x and the lowest\n",
        "    fibonacci number higher than x\"\"\"\n",
        "    if x < 0:\n",
        "        return -1\n",
        "    (old,new, lub) = (0,1,0)\n",
        "    while True:\n",
        "        if new < x:\n",
        "            lub = new \n",
        "            (old,new) = (new,old+new)\n",
        "        else:\n",
        "            return (lub, new)\n",
        "            \n",
        "while True:\n",
        "    x = int(input(\"Your number: \"))\n",
        "    if x <= 0:\n",
        "        break\n",
        "    (lub, sup) = fib_intervall(x)\n",
        "    print(\"Largest Fibonacci Number smaller than x: \" ,lub)\n",
        "    print(\"Smallest Fibonacci Number larger than x: \" ,sup)"
      ],
      "execution_count": 53,
      "outputs": [
        {
          "output_type": "stream",
          "text": [
            "Your number: 500\n",
            "Largest Fibonacci Number smaller than x:  377\n",
            "Smallest Fibonacci Number larger than x:  610\n",
            "Your number: -1\n"
          ],
          "name": "stdout"
        }
      ]
    },
    {
      "metadata": {
        "id": "p5rlI9UZCzyo",
        "colab_type": "code",
        "colab": {}
      },
      "cell_type": "code",
      "source": [
        ""
      ],
      "execution_count": 0,
      "outputs": []
    },
    {
      "metadata": {
        "id": "HPF0VMVaCqBb",
        "colab_type": "code",
        "colab": {}
      },
      "cell_type": "code",
      "source": [
        ""
      ],
      "execution_count": 0,
      "outputs": []
    },
    {
      "metadata": {
        "id": "z2piwGuiDgC2",
        "colab_type": "text"
      },
      "cell_type": "markdown",
      "source": [
        "##Arbitrary Number of Parameters\n"
      ]
    },
    {
      "metadata": {
        "id": "WQ8AIY1cDh0H",
        "colab_type": "text"
      },
      "cell_type": "markdown",
      "source": [
        "There are many situations in programming, in which the exact number of necessary parameters cannot be determined a-priori. An arbitrary parameter number can be accomplished in Python with so-called tuple references. An asterisk \"*\" is used in front of the last parameter name to denote it as a tuple reference. This asterisk shouldn't be mistaken with the C syntax, where this notation is connected with pointers."
      ]
    },
    {
      "metadata": {
        "id": "YBz3N2DlDmEq",
        "colab_type": "code",
        "colab": {
          "base_uri": "https://localhost:8080/",
          "height": 102
        },
        "outputId": "3694a5e0-8c25-4332-877c-ab695202cde5"
      },
      "cell_type": "code",
      "source": [
        "def arithmetic_mean(first, *values):\n",
        "    \"\"\" This function calculates the arithmetic mean of a non-empty\n",
        "        arbitrary number of numerical values \"\"\"\n",
        "\n",
        "    return (first + sum(values)) / (1 + len(values))\n",
        "\n",
        "print(arithmetic_mean(45,32,89,78))\n",
        "print(arithmetic_mean(8989.8,78787.78,3453,78778.73))\n",
        "print(arithmetic_mean(45,32))\n",
        "print(arithmetic_mean(45))\n",
        "x = [5, 0, 10]\n",
        "#print(arithmetic_mean(45, x)) will force\n",
        "print(arithmetic_mean(45, *x))\n"
      ],
      "execution_count": 56,
      "outputs": [
        {
          "output_type": "stream",
          "text": [
            "61.0\n",
            "42502.3275\n",
            "38.5\n",
            "45.0\n",
            "15.0\n"
          ],
          "name": "stdout"
        }
      ]
    },
    {
      "metadata": {
        "id": "StEOiDBPD9uw",
        "colab_type": "code",
        "colab": {}
      },
      "cell_type": "code",
      "source": [
        ""
      ],
      "execution_count": 0,
      "outputs": []
    },
    {
      "metadata": {
        "id": "T_kW4VVLD3HO",
        "colab_type": "code",
        "colab": {}
      },
      "cell_type": "code",
      "source": [
        ""
      ],
      "execution_count": 0,
      "outputs": []
    },
    {
      "metadata": {
        "id": "SSLatzBRDoC7",
        "colab_type": "code",
        "colab": {}
      },
      "cell_type": "code",
      "source": [
        ""
      ],
      "execution_count": 0,
      "outputs": []
    },
    {
      "metadata": {
        "id": "Srz7Z3xoE4u3",
        "colab_type": "text"
      },
      "cell_type": "markdown",
      "source": [
        "#Numpy"
      ]
    },
    {
      "metadata": {
        "id": "vLB2CqlcE6zX",
        "colab_type": "text"
      },
      "cell_type": "markdown",
      "source": [
        "## Creation of Arrays\n"
      ]
    },
    {
      "metadata": {
        "id": "YRVHYuYTFQXn",
        "colab_type": "text"
      },
      "cell_type": "markdown",
      "source": [
        "###Arange"
      ]
    },
    {
      "metadata": {
        "id": "3xqZLXU5FWEH",
        "colab_type": "text"
      },
      "cell_type": "markdown",
      "source": [
        "Arange returns evenly spaced values within a given interva\n",
        "\n",
        "The syntax of arange:\n",
        "\n",
        "\n",
        "```\n",
        "arange([start,] stop[, step], [, dtype=None])\n",
        "```\n",
        "\n",
        "start default = 0\n",
        "\n",
        "step default = *1*\n",
        "\n"
      ]
    },
    {
      "metadata": {
        "id": "bzUeq5QrFcnv",
        "colab_type": "code",
        "colab": {
          "base_uri": "https://localhost:8080/",
          "height": 119
        },
        "outputId": "885e468a-46b4-44b6-dc28-fc2b6dc5aedb"
      },
      "cell_type": "code",
      "source": [
        "import numpy as np\n",
        "a = np.arange(1, 10)\n",
        "print(a)\n",
        "x = range(1, 10)\n",
        "print(x)    # x is an iterator\n",
        "print(list(x))\n",
        "\n",
        "x = np.arange(10.4)\n",
        "print(x)\n",
        "x = np.arange(0.5, 10.4, 0.8)\n",
        "print(x)\n",
        "x = np.arange(0.5, 10.4, 0.8, int)\n",
        "print(x)"
      ],
      "execution_count": 62,
      "outputs": [
        {
          "output_type": "stream",
          "text": [
            "[1 2 3 4 5 6 7 8 9]\n",
            "range(1, 10)\n",
            "[1, 2, 3, 4, 5, 6, 7, 8, 9]\n",
            "[ 0.  1.  2.  3.  4.  5.  6.  7.  8.  9. 10.]\n",
            "[ 0.5  1.3  2.1  2.9  3.7  4.5  5.3  6.1  6.9  7.7  8.5  9.3 10.1]\n",
            "[ 0  1  2  3  4  5  6  7  8  9 10 11 12]\n"
          ],
          "name": "stdout"
        }
      ]
    },
    {
      "metadata": {
        "id": "bwOfMxXjGbx9",
        "colab_type": "text"
      },
      "cell_type": "markdown",
      "source": [
        "### Linspace"
      ]
    },
    {
      "metadata": {
        "id": "SIIMMPpGGiOO",
        "colab_type": "text"
      },
      "cell_type": "markdown",
      "source": [
        "Linspace returns an ndarray, consisting of 'num' equally spaced samples in the closed interval [start, stop] or the half-open interval [start, stop).\n",
        "\n",
        "If a closed or a half-open interval will be returned, depends on whether 'endpoint' is True or False\n",
        "\n",
        "The syntax of linspace:\n",
        "\n",
        "linspace(start, stop, num=50, endpoint=True, retstep=False)"
      ]
    },
    {
      "metadata": {
        "id": "Bp5luFRLHU-G",
        "colab_type": "code",
        "colab": {
          "base_uri": "https://localhost:8080/",
          "height": 221
        },
        "outputId": "78f61442-3e4c-4cfa-b56d-28a3d10a1df9"
      },
      "cell_type": "code",
      "source": [
        "# 50 values between 1 and 10:\n",
        "print(np.linspace(1, 10))\n",
        "# 7 values between 1 and 10:\n",
        "print(np.linspace(1, 10, 7))\n",
        "# excluding the endpoint:\n",
        "print(np.linspace(1, 10, 7, endpoint=False))"
      ],
      "execution_count": 63,
      "outputs": [
        {
          "output_type": "stream",
          "text": [
            "[ 1.          1.18367347  1.36734694  1.55102041  1.73469388  1.91836735\n",
            "  2.10204082  2.28571429  2.46938776  2.65306122  2.83673469  3.02040816\n",
            "  3.20408163  3.3877551   3.57142857  3.75510204  3.93877551  4.12244898\n",
            "  4.30612245  4.48979592  4.67346939  4.85714286  5.04081633  5.2244898\n",
            "  5.40816327  5.59183673  5.7755102   5.95918367  6.14285714  6.32653061\n",
            "  6.51020408  6.69387755  6.87755102  7.06122449  7.24489796  7.42857143\n",
            "  7.6122449   7.79591837  7.97959184  8.16326531  8.34693878  8.53061224\n",
            "  8.71428571  8.89795918  9.08163265  9.26530612  9.44897959  9.63265306\n",
            "  9.81632653 10.        ]\n",
            "[ 1.   2.5  4.   5.5  7.   8.5 10. ]\n",
            "[1.         2.28571429 3.57142857 4.85714286 6.14285714 7.42857143\n",
            " 8.71428571]\n"
          ],
          "name": "stdout"
        }
      ]
    },
    {
      "metadata": {
        "id": "CQPdNnbCHVne",
        "colab_type": "code",
        "colab": {}
      },
      "cell_type": "code",
      "source": [
        ""
      ],
      "execution_count": 0,
      "outputs": []
    },
    {
      "metadata": {
        "id": "MvCN3WJKHjpW",
        "colab_type": "text"
      },
      "cell_type": "markdown",
      "source": [
        "### Zero-dimensional Arrays"
      ]
    },
    {
      "metadata": {
        "id": "aGi-kSFEICUp",
        "colab_type": "text"
      },
      "cell_type": "markdown",
      "source": [
        ""
      ]
    },
    {
      "metadata": {
        "id": "vjNFrBXUHlE9",
        "colab_type": "text"
      },
      "cell_type": "markdown",
      "source": [
        "It's possible to create multidimensional arrays in numpy. Scalars are zero dimensional. In the following example, we will create the scalar 42. Applying the ndim method to our scalar, we get the dimension of the array. We can also see that the type is a \"numpy.ndarray\" type."
      ]
    },
    {
      "metadata": {
        "id": "UVEFOFXzH1kO",
        "colab_type": "code",
        "colab": {
          "base_uri": "https://localhost:8080/",
          "height": 68
        },
        "outputId": "a1293ebd-f595-488f-a540-a0a85779259f"
      },
      "cell_type": "code",
      "source": [
        "x = np.array(42)\n",
        "print(\"x: \", x)\n",
        "print(\"The type of x: \", type(x))\n",
        "print(\"The dimension of x:\", np.ndim(x))"
      ],
      "execution_count": 64,
      "outputs": [
        {
          "output_type": "stream",
          "text": [
            "x:  42\n",
            "The type of x:  <class 'numpy.ndarray'>\n",
            "The dimension of x: 0\n"
          ],
          "name": "stdout"
        }
      ]
    },
    {
      "metadata": {
        "id": "Q7uMHeRbH2OD",
        "colab_type": "code",
        "colab": {}
      },
      "cell_type": "code",
      "source": [
        ""
      ],
      "execution_count": 0,
      "outputs": []
    },
    {
      "metadata": {
        "id": "h8CjNJH4IDld",
        "colab_type": "text"
      },
      "cell_type": "markdown",
      "source": [
        "### One-dimensional Arrays"
      ]
    },
    {
      "metadata": {
        "id": "6kJBBifcIFa9",
        "colab_type": "text"
      },
      "cell_type": "markdown",
      "source": [
        "We have already encountered a 1-dimenional array - better known to some as vectors - in our initial example"
      ]
    },
    {
      "metadata": {
        "id": "xbTBZwGKIMDu",
        "colab_type": "code",
        "colab": {
          "base_uri": "https://localhost:8080/",
          "height": 119
        },
        "outputId": "179cf46d-532f-4ef8-ebe0-f5299344e823"
      },
      "cell_type": "code",
      "source": [
        "F = np.array([1, 1, 2, 3, 5, 8, 13, 21])\n",
        "V = np.array([3.4, 6.9, 99.8, 12.8])\n",
        "print(\"F: \", F)\n",
        "print(\"V: \", V)\n",
        "print(\"Type of F: \", F.dtype)\n",
        "print(\"Type of V: \", V.dtype)\n",
        "print(\"Dimension of F: \", np.ndim(F))\n",
        "print(\"Dimension of V: \", np.ndim(V))"
      ],
      "execution_count": 65,
      "outputs": [
        {
          "output_type": "stream",
          "text": [
            "F:  [ 1  1  2  3  5  8 13 21]\n",
            "V:  [ 3.4  6.9 99.8 12.8]\n",
            "Type of F:  int64\n",
            "Type of V:  float64\n",
            "Dimension of F:  1\n",
            "Dimension of V:  1\n"
          ],
          "name": "stdout"
        }
      ]
    },
    {
      "metadata": {
        "id": "-hKO_tqaIQKY",
        "colab_type": "code",
        "colab": {}
      },
      "cell_type": "code",
      "source": [
        ""
      ],
      "execution_count": 0,
      "outputs": []
    },
    {
      "metadata": {
        "id": "WdqxRhf8IYdC",
        "colab_type": "text"
      },
      "cell_type": "markdown",
      "source": [
        "###Two- and Multidimensional Arrays"
      ]
    },
    {
      "metadata": {
        "id": "EhEqBd3uIZ1U",
        "colab_type": "text"
      },
      "cell_type": "markdown",
      "source": [
        "arrays of NumPy are not limited to one dimension. They are of arbitrary dimension. We create them by passing nested lists (or tuples) to the array method of numpy."
      ]
    },
    {
      "metadata": {
        "id": "RJiUde1aIdtP",
        "colab_type": "code",
        "colab": {
          "base_uri": "https://localhost:8080/",
          "height": 68
        },
        "outputId": "e7921974-d6ec-43ca-e68f-974b5f4d7809"
      },
      "cell_type": "code",
      "source": [
        "A = np.array([ [3.4, 8.7, 9.9], \n",
        "               [1.1, -7.8, -0.7]])\n",
        "print(A)\n",
        "print(A.ndim)"
      ],
      "execution_count": 67,
      "outputs": [
        {
          "output_type": "stream",
          "text": [
            "[[ 3.4  8.7  9.9]\n",
            " [ 1.1 -7.8 -0.7]]\n",
            "2\n"
          ],
          "name": "stdout"
        }
      ]
    },
    {
      "metadata": {
        "id": "UestnO3UIram",
        "colab_type": "text"
      },
      "cell_type": "markdown",
      "source": [
        "### Shape of an Array"
      ]
    },
    {
      "metadata": {
        "id": "EBnJOuzQIsqa",
        "colab_type": "text"
      },
      "cell_type": "markdown",
      "source": [
        "The function \"shape\" returns the shape of an array. The shape is a tuple of integers. These numbers denote the lengths of the corresponding array dimension. In other words: The \"shape\" of an array is a tuple with the number of elements per axis (dimension). In our example, the shape is equal to (6, 3), i.e. we have 6 lines and 3 columns\n",
        "\n",
        "![alt text](https://www.python-course.eu/images/axis1.jpeg)"
      ]
    },
    {
      "metadata": {
        "id": "qX-aPJu0JBRm",
        "colab_type": "code",
        "colab": {
          "base_uri": "https://localhost:8080/",
          "height": 34
        },
        "outputId": "0bc285ea-fc52-4ecb-c31b-c7d7f3a9329d"
      },
      "cell_type": "code",
      "source": [
        "x = np.array([ [67, 63, 87],\n",
        "               [77, 69, 59],\n",
        "               [85, 87, 99],\n",
        "               [79, 72, 71],\n",
        "               [63, 89, 93],\n",
        "               [68, 92, 78]])\n",
        "print(np.shape(x))"
      ],
      "execution_count": 68,
      "outputs": [
        {
          "output_type": "stream",
          "text": [
            "(6, 3)\n"
          ],
          "name": "stdout"
        }
      ]
    },
    {
      "metadata": {
        "id": "RO118hVMJpkf",
        "colab_type": "text"
      },
      "cell_type": "markdown",
      "source": [
        "### Arrays of Ones and of Zeros"
      ]
    },
    {
      "metadata": {
        "id": "DtNqnWOZJts9",
        "colab_type": "text"
      },
      "cell_type": "markdown",
      "source": [
        "There are two ways of initializing Arrays with Zeros or Ones. The method ones(t) takes a tuple t with the shape of the array and fills the array accordingly with ones. By default it will be filled with Ones of type float"
      ]
    },
    {
      "metadata": {
        "id": "uktdwRu-Jw6A",
        "colab_type": "code",
        "colab": {
          "base_uri": "https://localhost:8080/",
          "height": 119
        },
        "outputId": "9615a51e-921b-4c9e-8ff9-77391f75600e"
      },
      "cell_type": "code",
      "source": [
        "D = np.zeros(5)\n",
        "print(D)\n",
        "E = np.ones((2,3))\n",
        "print(E)\n",
        "F = np.ones((3,4),dtype=int)\n",
        "print(F)"
      ],
      "execution_count": 70,
      "outputs": [
        {
          "output_type": "stream",
          "text": [
            "[0. 0. 0. 0. 0.]\n",
            "[[1. 1. 1.]\n",
            " [1. 1. 1.]]\n",
            "[[1 1 1 1]\n",
            " [1 1 1 1]\n",
            " [1 1 1 1]]\n"
          ],
          "name": "stdout"
        }
      ]
    },
    {
      "metadata": {
        "id": "XKoNhuXEKPfu",
        "colab_type": "text"
      },
      "cell_type": "markdown",
      "source": [
        "There is another interesting way to create an array with Ones or with Zeros, if it has to have the same shape as another existing array 'a'. Numpy supplies for this purpose the methods ones_like(a) and zeros_like(a)."
      ]
    },
    {
      "metadata": {
        "id": "gt4frJ8yKRwK",
        "colab_type": "code",
        "colab": {
          "base_uri": "https://localhost:8080/",
          "height": 51
        },
        "outputId": "82cb8377-f240-4951-d09e-37eb8566ead4"
      },
      "cell_type": "code",
      "source": [
        "x = np.array([2,5,18,14,4])\n",
        "E = np.ones_like(x)\n",
        "print(E)\n",
        "Z = np.zeros_like(x)\n",
        "print(Z)"
      ],
      "execution_count": 71,
      "outputs": [
        {
          "output_type": "stream",
          "text": [
            "[1 1 1 1 1]\n",
            "[0 0 0 0 0]\n"
          ],
          "name": "stdout"
        }
      ]
    },
    {
      "metadata": {
        "id": "2y14SponKTQG",
        "colab_type": "code",
        "colab": {}
      },
      "cell_type": "code",
      "source": [
        ""
      ],
      "execution_count": 0,
      "outputs": []
    },
    {
      "metadata": {
        "id": "x025_ZqeKfeH",
        "colab_type": "text"
      },
      "cell_type": "markdown",
      "source": [
        "### Identity Array"
      ]
    },
    {
      "metadata": {
        "id": "Se353f0AKn39",
        "colab_type": "text"
      },
      "cell_type": "markdown",
      "source": [
        "An identity array is a square array with ones on its main diagonal. There are two ways to create identity array.\n",
        "\n",
        "* identy\n",
        "* eye"
      ]
    },
    {
      "metadata": {
        "id": "aWHvdWFLKsJz",
        "colab_type": "text"
      },
      "cell_type": "markdown",
      "source": [
        "#### The identity Function"
      ]
    },
    {
      "metadata": {
        "id": "s2R0oBJjKt7N",
        "colab_type": "text"
      },
      "cell_type": "markdown",
      "source": [
        "We can create identity arrays with the function identity:\n",
        "\n",
        "`identity(n, dtype=None)`\n",
        "\n",
        "The parameters:\n",
        "\n",
        "Parameter\tMeaning :\n",
        "\n",
        "n\tAn integer number defining the number of rows and columns of the output, i.e. 'n' x 'n'\n",
        "\n",
        "dtype\tAn optional argument, defining the data-type of the output. The default is 'float'"
      ]
    },
    {
      "metadata": {
        "id": "F39tuAh7K6g-",
        "colab_type": "code",
        "colab": {
          "base_uri": "https://localhost:8080/",
          "height": 85
        },
        "outputId": "f9c7097c-caaa-4155-c1fd-944c658f52ca"
      },
      "cell_type": "code",
      "source": [
        "np.identity(4)"
      ],
      "execution_count": 72,
      "outputs": [
        {
          "output_type": "execute_result",
          "data": {
            "text/plain": [
              "array([[1., 0., 0., 0.],\n",
              "       [0., 1., 0., 0.],\n",
              "       [0., 0., 1., 0.],\n",
              "       [0., 0., 0., 1.]])"
            ]
          },
          "metadata": {
            "tags": []
          },
          "execution_count": 72
        }
      ]
    },
    {
      "metadata": {
        "id": "3KIOrh0sLBrX",
        "colab_type": "text"
      },
      "cell_type": "markdown",
      "source": [
        "#### The eye Function"
      ]
    },
    {
      "metadata": {
        "id": "2o49pdDmLCvj",
        "colab_type": "text"
      },
      "cell_type": "markdown",
      "source": [
        "Another way to create identity arrays provides the function eye. It returns a 2-D array with ones on the diagonal and zeros elsewhere.\n",
        "\n",
        "`eye(N, M=None, k=0, dtype=float)`\n",
        "\n",
        "Parameter\tMeaning\n",
        "\n",
        "N\tAn integer number defining the rows of the output array.\n",
        "\n",
        "M\tAn optional integer for setting the number of columns in the output. If it is None, it defaults to 'N'.\n",
        "\n",
        "k\tDefining the position of the diagonal. The default is 0. 0 refers to the main diagonal. A positive value refers to an upper diagonal, and a negative value to a lower diagonal.\n",
        "\n",
        "dtype\tOptional data-type of the returned array.\n",
        "\n",
        "eye returns an ndarray of shape (N,M). All elements of this array are equal to zero, except for the 'k'-th diagonal, whose values are equal to one"
      ]
    },
    {
      "metadata": {
        "id": "6m1nflreLNdU",
        "colab_type": "code",
        "colab": {
          "base_uri": "https://localhost:8080/",
          "height": 102
        },
        "outputId": "7672afac-0d07-4743-f264-e85d594911b8"
      },
      "cell_type": "code",
      "source": [
        "np.eye(5, 8, k=1, dtype=int)"
      ],
      "execution_count": 73,
      "outputs": [
        {
          "output_type": "execute_result",
          "data": {
            "text/plain": [
              "array([[0, 1, 0, 0, 0, 0, 0, 0],\n",
              "       [0, 0, 1, 0, 0, 0, 0, 0],\n",
              "       [0, 0, 0, 1, 0, 0, 0, 0],\n",
              "       [0, 0, 0, 0, 1, 0, 0, 0],\n",
              "       [0, 0, 0, 0, 0, 1, 0, 0]])"
            ]
          },
          "metadata": {
            "tags": []
          },
          "execution_count": 73
        }
      ]
    },
    {
      "metadata": {
        "id": "UlTlGQ_TLOHa",
        "colab_type": "code",
        "colab": {}
      },
      "cell_type": "code",
      "source": [
        ""
      ],
      "execution_count": 0,
      "outputs": []
    },
    {
      "metadata": {
        "id": "kblzfqlaLe0t",
        "colab_type": "text"
      },
      "cell_type": "markdown",
      "source": [
        "#### Exercises"
      ]
    },
    {
      "metadata": {
        "id": "C0MxLd6FLky9",
        "colab_type": "text"
      },
      "cell_type": "markdown",
      "source": [
        "1) Create an arbitrary one dimensional array called \"v\".\n",
        "\n",
        "2) Create a new array which consists of the odd indices of previously created array \"v\".\n",
        "\n",
        "3) Create a new array in backwards ordering from v.\n",
        "\n",
        "4) What will be the output of the following code:\n",
        "\n",
        "   a = np.array([1, 2, 3, 4, 5])\n",
        "   b = a[1:4]\n",
        "   b[0] = 200\n",
        "   print(a[1])\n",
        "   \n",
        "5) Create a two dimensional array called \"m\".\n",
        "\n",
        "6) Create a new array from m, in which the elements of each row are in reverse order.\n",
        "\n",
        "7) Another one, where the rows are in reverse order.\n",
        "\n",
        "8) Create an array from m, where columns and rows are in reverse order.\n",
        "\n",
        "9) Cut of the first and last row and the first and last column."
      ]
    },
    {
      "metadata": {
        "id": "mOt5tf_4MTt1",
        "colab_type": "text"
      },
      "cell_type": "markdown",
      "source": [
        "## Numerical Operations on Numpy Arrays"
      ]
    },
    {
      "metadata": {
        "id": "Fis7wZQqMVA0",
        "colab_type": "text"
      },
      "cell_type": "markdown",
      "source": [
        "### Using Scalars"
      ]
    },
    {
      "metadata": {
        "id": "Za-u0-0XMamN",
        "colab_type": "code",
        "colab": {
          "base_uri": "https://localhost:8080/",
          "height": 51
        },
        "outputId": "c2bf17b6-e89d-4b29-efeb-a7904d760e15"
      },
      "cell_type": "code",
      "source": [
        "import numpy as np\n",
        "lst = [2,3, 7.9, 3.3, 6.9, 0.11, 10.3, 12.9]\n",
        "v = np.array(lst)\n",
        "print(v * 2.2)\n",
        "v = v + 2\n",
        "print(v)\n"
      ],
      "execution_count": 75,
      "outputs": [
        {
          "output_type": "stream",
          "text": [
            "[ 4.4    6.6   17.38   7.26  15.18   0.242 22.66  28.38 ]\n",
            "[ 4.    5.    9.9   5.3   8.9   2.11 12.3  14.9 ]\n"
          ],
          "name": "stdout"
        }
      ]
    },
    {
      "metadata": {
        "id": "Zuu8VfjCMwE8",
        "colab_type": "text"
      },
      "cell_type": "markdown",
      "source": [
        "### Arithmetic Operations with two Arrays"
      ]
    },
    {
      "metadata": {
        "id": "4O1lDMWUM2O2",
        "colab_type": "text"
      },
      "cell_type": "markdown",
      "source": [
        "If we use another array instead of a scalar, the elements of both arrays will be component-wise combined"
      ]
    },
    {
      "metadata": {
        "id": "Lk6iZtoFM3sk",
        "colab_type": "code",
        "colab": {
          "base_uri": "https://localhost:8080/",
          "height": 187
        },
        "outputId": "e6a5ff79-1abf-4b9e-d528-da7ee8f5646f"
      },
      "cell_type": "code",
      "source": [
        "A = np.array([ [11, 12, 13], [21, 22, 23], [31, 32, 33] ])\n",
        "B = np.ones((3,3))\n",
        "print(A.shape)\n",
        "print(\"Adding to arrays: \")\n",
        "print(A + B)\n",
        "print(\"\\nMultiplying two arrays: \")\n",
        "print(A * (B + 1))"
      ],
      "execution_count": 80,
      "outputs": [
        {
          "output_type": "stream",
          "text": [
            "(3, 3)\n",
            "Adding to arrays: \n",
            "[[12. 13. 14.]\n",
            " [22. 23. 24.]\n",
            " [32. 33. 34.]]\n",
            "\n",
            "Multiplying two arrays: \n",
            "[[22. 24. 26.]\n",
            " [42. 44. 46.]\n",
            " [62. 64. 66.]]\n"
          ],
          "name": "stdout"
        }
      ]
    },
    {
      "metadata": {
        "id": "-k5YdvKjNMMo",
        "colab_type": "text"
      },
      "cell_type": "markdown",
      "source": [
        "### Matrix Multiplication"
      ]
    },
    {
      "metadata": {
        "id": "jXduRrjUNWSU",
        "colab_type": "text"
      },
      "cell_type": "markdown",
      "source": [
        "For this purpose, we can use the dot product. Using the previous arrays, we can calculate the matrix multiplication:"
      ]
    },
    {
      "metadata": {
        "id": "vhI-pwq7NXLZ",
        "colab_type": "code",
        "colab": {
          "base_uri": "https://localhost:8080/",
          "height": 68
        },
        "outputId": "99e0ffab-26a4-43f4-8a86-81f7537145f1"
      },
      "cell_type": "code",
      "source": [
        "np.dot(A, B)"
      ],
      "execution_count": 77,
      "outputs": [
        {
          "output_type": "execute_result",
          "data": {
            "text/plain": [
              "array([[36., 36., 36.],\n",
              "       [66., 66., 66.],\n",
              "       [96., 96., 96.]])"
            ]
          },
          "metadata": {
            "tags": []
          },
          "execution_count": 77
        }
      ]
    },
    {
      "metadata": {
        "id": "PgbtYcTpNYdy",
        "colab_type": "code",
        "colab": {}
      },
      "cell_type": "code",
      "source": [
        ""
      ],
      "execution_count": 0,
      "outputs": []
    },
    {
      "metadata": {
        "id": "Kf-_45fSOqqu",
        "colab_type": "text"
      },
      "cell_type": "markdown",
      "source": [
        "###Matrices vs. Two-Dimensional Arrays"
      ]
    },
    {
      "metadata": {
        "id": "hWCrkB1lOsnY",
        "colab_type": "text"
      },
      "cell_type": "markdown",
      "source": [
        "Some may have taken two-dimensional arrays of Numpy as matrices. This is principially all right, because they behave in most aspects like our mathematical idea of a matrix. We even saw that we can perform matrix multiplication on them. Yet, there is a subtle difference. There are \"real\" matrices in Numpy. They are a subset of the two-dimensional arrays. We can turn a two-dimensional array into a matrix by applying the \"mat\" function. The main difference shows, if you multiply two two-dimensional arrays or two matrices. We get real matrix multiplication by multiplying two matrices, but the two-dimensional arrays will be only multiplied component-wise:"
      ]
    },
    {
      "metadata": {
        "id": "bXdGEkWBOvM7",
        "colab_type": "code",
        "colab": {
          "base_uri": "https://localhost:8080/",
          "height": 68
        },
        "outputId": "ab30d127-999a-4490-f5b9-336267345b63"
      },
      "cell_type": "code",
      "source": [
        "A = np.array([ [1, 2, 3], [2, 2, 2], [3, 3, 3] ])\n",
        "B = np.array([ [3, 2, 1], [1, 2, 3], [-1, -2, -3] ])\n",
        "R = A * B\n",
        "print(R)"
      ],
      "execution_count": 81,
      "outputs": [
        {
          "output_type": "stream",
          "text": [
            "[[ 3  4  3]\n",
            " [ 2  4  6]\n",
            " [-3 -6 -9]]\n"
          ],
          "name": "stdout"
        }
      ]
    },
    {
      "metadata": {
        "id": "sY00RVbXOwnt",
        "colab_type": "code",
        "colab": {
          "base_uri": "https://localhost:8080/",
          "height": 68
        },
        "outputId": "5154b9ed-41ff-408b-bec5-f630a960ff55"
      },
      "cell_type": "code",
      "source": [
        "MA = np.mat(A)\n",
        "MB = np.mat(B)\n",
        "R = MA * MB\n",
        "print(R)"
      ],
      "execution_count": 82,
      "outputs": [
        {
          "output_type": "stream",
          "text": [
            "[[ 2  0 -2]\n",
            " [ 6  4  2]\n",
            " [ 9  6  3]]\n"
          ],
          "name": "stdout"
        }
      ]
    },
    {
      "metadata": {
        "id": "5ZY-LagTO0rP",
        "colab_type": "code",
        "colab": {}
      },
      "cell_type": "code",
      "source": [
        ""
      ],
      "execution_count": 0,
      "outputs": []
    },
    {
      "metadata": {
        "id": "M0aTZ0SvPZNw",
        "colab_type": "text"
      },
      "cell_type": "markdown",
      "source": [
        "## Changing the dimention of array"
      ]
    },
    {
      "metadata": {
        "id": "cE-FZKNaPimD",
        "colab_type": "text"
      },
      "cell_type": "markdown",
      "source": [
        "###Flatten and Reshape Arrays"
      ]
    },
    {
      "metadata": {
        "id": "PGsKRe5fPnRO",
        "colab_type": "text"
      },
      "cell_type": "markdown",
      "source": [
        "There are two methods to flatten a multidimensional array:\n",
        "\n",
        "* flatten()\n",
        "* ravel()"
      ]
    },
    {
      "metadata": {
        "id": "WrQgnpjpPsoD",
        "colab_type": "text"
      },
      "cell_type": "markdown",
      "source": [
        "#### flatten"
      ]
    },
    {
      "metadata": {
        "id": "pGzE2H9pP2Sm",
        "colab_type": "text"
      },
      "cell_type": "markdown",
      "source": [
        "flatten is a ndarry method with an optional keyword parameter \"order\". order can have the values \"C\", \"F\" and \"A\". The default of order is \"C\". \"C\" means to flatten C style in row-major ordering, i.e. the rightmost index \"changes the fastest\" or in other words: In row-major order, the row index varies the slowest, and the column index the quickest, so that a[0,1] follows [0,0]. \n",
        "\"F\" stands for Fortran column-major ordering. \"A\" means preserve the the C/Fortran ordering"
      ]
    },
    {
      "metadata": {
        "id": "PffHnGFwP3hD",
        "colab_type": "code",
        "colab": {
          "base_uri": "https://localhost:8080/",
          "height": 102
        },
        "outputId": "643369eb-c2df-4e95-b51d-19c752d02ad6"
      },
      "cell_type": "code",
      "source": [
        "A = np.array([[[ 0,  1],\n",
        "               [ 2,  3],\n",
        "               [ 4,  5],\n",
        "               [ 6,  7]],\n",
        "              [[ 8,  9],\n",
        "               [10, 11],\n",
        "               [12, 13],\n",
        "               [14, 15]],\n",
        "              [[16, 17],\n",
        "               [18, 19],\n",
        "               [20, 21],\n",
        "               [22, 23]]])\n",
        "Flattened_X = A.flatten()\n",
        "print(A.shape)\n",
        "print(Flattened_X)\n",
        "print(A.flatten(order=\"C\"))\n",
        "print(A.flatten(order=\"F\"))\n",
        "print(A.flatten(order=\"A\"))"
      ],
      "execution_count": 85,
      "outputs": [
        {
          "output_type": "stream",
          "text": [
            "(3, 4, 2)\n",
            "[ 0  1  2  3  4  5  6  7  8  9 10 11 12 13 14 15 16 17 18 19 20 21 22 23]\n",
            "[ 0  1  2  3  4  5  6  7  8  9 10 11 12 13 14 15 16 17 18 19 20 21 22 23]\n",
            "[ 0  8 16  2 10 18  4 12 20  6 14 22  1  9 17  3 11 19  5 13 21  7 15 23]\n",
            "[ 0  1  2  3  4  5  6  7  8  9 10 11 12 13 14 15 16 17 18 19 20 21 22 23]\n"
          ],
          "name": "stdout"
        }
      ]
    },
    {
      "metadata": {
        "id": "X2Fypp0CQZUZ",
        "colab_type": "code",
        "colab": {}
      },
      "cell_type": "code",
      "source": [
        ""
      ],
      "execution_count": 0,
      "outputs": []
    },
    {
      "metadata": {
        "id": "OKwd2_i6QzEn",
        "colab_type": "text"
      },
      "cell_type": "markdown",
      "source": [
        "#### ravel"
      ]
    },
    {
      "metadata": {
        "id": "P_db12WwQ3mD",
        "colab_type": "text"
      },
      "cell_type": "markdown",
      "source": [
        "The order of the elements in the array returned by ravel() is normally \"C-style\".\n",
        "\n",
        "ravel(a, order='C')\n",
        "\n",
        "ravel returns a flattened one-dimensional array. A copy is made only if needed.\n",
        "\n",
        "The optional keyword parameter \"order\" can be 'C','F', 'A', or 'K'\n",
        "\n",
        "'C': C-like order, with the last axis index changing fastest, back to the first axis index changing slowest. \"C\" is the default!\n",
        "\n",
        "'F': Fortran-like index order with the first index changing fastest, and the last index changing slowest.\n",
        "\n",
        "'A': Fortran-like index order if the array \"a\" is Fortran contiguous in memory, C-like order otherwise.\n",
        "\n",
        "'K': read the elements in the order they occur in memory, except for reversing the data when strides are negative"
      ]
    },
    {
      "metadata": {
        "id": "1xO9c8XPQ4zc",
        "colab_type": "code",
        "colab": {
          "base_uri": "https://localhost:8080/",
          "height": 102
        },
        "outputId": "968af2d9-9662-42f8-c66f-b4131c19d687"
      },
      "cell_type": "code",
      "source": [
        "print(A.ravel())\n",
        "print(A.ravel(order=\"A\"))\n",
        "print(A.ravel(order=\"F\"))\n",
        "print(A.ravel(order=\"A\"))\n",
        "print(A.ravel(order=\"K\"))"
      ],
      "execution_count": 86,
      "outputs": [
        {
          "output_type": "stream",
          "text": [
            "[ 0  1  2  3  4  5  6  7  8  9 10 11 12 13 14 15 16 17 18 19 20 21 22 23]\n",
            "[ 0  1  2  3  4  5  6  7  8  9 10 11 12 13 14 15 16 17 18 19 20 21 22 23]\n",
            "[ 0  8 16  2 10 18  4 12 20  6 14 22  1  9 17  3 11 19  5 13 21  7 15 23]\n",
            "[ 0  1  2  3  4  5  6  7  8  9 10 11 12 13 14 15 16 17 18 19 20 21 22 23]\n",
            "[ 0  1  2  3  4  5  6  7  8  9 10 11 12 13 14 15 16 17 18 19 20 21 22 23]\n"
          ],
          "name": "stdout"
        }
      ]
    },
    {
      "metadata": {
        "id": "-SEt8IePQ6eZ",
        "colab_type": "code",
        "colab": {}
      },
      "cell_type": "code",
      "source": [
        ""
      ],
      "execution_count": 0,
      "outputs": []
    },
    {
      "metadata": {
        "id": "BLS1H2ouRBmE",
        "colab_type": "text"
      },
      "cell_type": "markdown",
      "source": [
        "#### reshape"
      ]
    },
    {
      "metadata": {
        "id": "d6-pxH8yRCwq",
        "colab_type": "text"
      },
      "cell_type": "markdown",
      "source": [
        "The method reshape() gives a new shape to an array without changing its data, i.e. it returns a new array with a new shape.\n",
        "\n",
        "reshape(a, newshape, order='C')\n",
        "\n",
        "Parameter\tMeaning\n",
        "\n",
        "a\tarray_like, Array to be reshaped.\n",
        "\n",
        "newshape\tint or tuple of ints\n",
        "\n",
        "order\t'C', 'F', 'A', like in flatten or ravel"
      ]
    },
    {
      "metadata": {
        "id": "_dZdjV7XRGKE",
        "colab_type": "code",
        "colab": {
          "base_uri": "https://localhost:8080/",
          "height": 255
        },
        "outputId": "ed8fd64a-20b6-4eee-cc53-07d8708c6198"
      },
      "cell_type": "code",
      "source": [
        "X = np.array(range(24))\n",
        "Y = X.reshape((3,4,2))\n",
        "Y"
      ],
      "execution_count": 87,
      "outputs": [
        {
          "output_type": "execute_result",
          "data": {
            "text/plain": [
              "array([[[ 0,  1],\n",
              "        [ 2,  3],\n",
              "        [ 4,  5],\n",
              "        [ 6,  7]],\n",
              "\n",
              "       [[ 8,  9],\n",
              "        [10, 11],\n",
              "        [12, 13],\n",
              "        [14, 15]],\n",
              "\n",
              "       [[16, 17],\n",
              "        [18, 19],\n",
              "        [20, 21],\n",
              "        [22, 23]]])"
            ]
          },
          "metadata": {
            "tags": []
          },
          "execution_count": 87
        }
      ]
    },
    {
      "metadata": {
        "id": "Aijouq-5RewV",
        "colab_type": "text"
      },
      "cell_type": "markdown",
      "source": [
        "## Concatenating Arrays"
      ]
    },
    {
      "metadata": {
        "id": "jaXF8R4DRj9G",
        "colab_type": "text"
      },
      "cell_type": "markdown",
      "source": [
        "In the following example we concatenate three one-dimensional arrays to one array. The elements of the second array are appended to the first array"
      ]
    },
    {
      "metadata": {
        "id": "dBF6bq6CRrHU",
        "colab_type": "code",
        "colab": {
          "base_uri": "https://localhost:8080/",
          "height": 34
        },
        "outputId": "a9f7a534-8159-497e-bc39-0df0de550ef9"
      },
      "cell_type": "code",
      "source": [
        "x = np.array([11,22])\n",
        "y = np.array([18,7,6])\n",
        "z = np.array([1,3,5])\n",
        "c = np.concatenate((x,y,z))\n",
        "print(c)"
      ],
      "execution_count": 88,
      "outputs": [
        {
          "output_type": "stream",
          "text": [
            "[11 22 18  7  6  1  3  5]\n"
          ],
          "name": "stdout"
        }
      ]
    },
    {
      "metadata": {
        "id": "hrlM1CPcRrk1",
        "colab_type": "code",
        "colab": {
          "base_uri": "https://localhost:8080/",
          "height": 153
        },
        "outputId": "a33eacd4-8544-4fc0-d88a-28cb34c9f8fa"
      },
      "cell_type": "code",
      "source": [
        "x = np.array(range(8))\n",
        "x = x.reshape((4, 2))\n",
        "y = np.array(range(100,108))\n",
        "y = y.reshape((4, 2))\n",
        "z = np.concatenate((x,y))\n",
        "print(z)"
      ],
      "execution_count": 91,
      "outputs": [
        {
          "output_type": "stream",
          "text": [
            "[[  0   1]\n",
            " [  2   3]\n",
            " [  4   5]\n",
            " [  6   7]\n",
            " [100 101]\n",
            " [102 103]\n",
            " [104 105]\n",
            " [106 107]]\n"
          ],
          "name": "stdout"
        }
      ]
    },
    {
      "metadata": {
        "id": "71TkWD6ySOZf",
        "colab_type": "code",
        "colab": {}
      },
      "cell_type": "code",
      "source": [
        ""
      ],
      "execution_count": 0,
      "outputs": []
    },
    {
      "metadata": {
        "id": "-NPF7xMNSa0j",
        "colab_type": "text"
      },
      "cell_type": "markdown",
      "source": [
        "## Adding New Dimensions"
      ]
    },
    {
      "metadata": {
        "id": "aBVb77hMSb-n",
        "colab_type": "text"
      },
      "cell_type": "markdown",
      "source": [
        "New dimensions can be added to an array by using slicing and np.newaxis"
      ]
    },
    {
      "metadata": {
        "id": "8uxe0NwHSFd-",
        "colab_type": "code",
        "colab": {
          "base_uri": "https://localhost:8080/",
          "height": 102
        },
        "outputId": "489a2a5e-832e-4de0-8b2e-cd929a2f0611"
      },
      "cell_type": "code",
      "source": [
        "x = np.array([2,5,18,14,4])\n",
        "y = x[:, np.newaxis]\n",
        "print(y)"
      ],
      "execution_count": 92,
      "outputs": [
        {
          "output_type": "stream",
          "text": [
            "[[ 2]\n",
            " [ 5]\n",
            " [18]\n",
            " [14]\n",
            " [ 4]]\n"
          ],
          "name": "stdout"
        }
      ]
    },
    {
      "metadata": {
        "id": "kWIY3QjgSCoq",
        "colab_type": "code",
        "colab": {}
      },
      "cell_type": "code",
      "source": [
        ""
      ],
      "execution_count": 0,
      "outputs": []
    },
    {
      "metadata": {
        "id": "FS-Lot1XTwcj",
        "colab_type": "text"
      },
      "cell_type": "markdown",
      "source": [
        "# Matplotlib Tutorial"
      ]
    },
    {
      "metadata": {
        "id": "wTMvP2CiXpZC",
        "colab_type": "text"
      },
      "cell_type": "markdown",
      "source": [
        "## Introduce"
      ]
    },
    {
      "metadata": {
        "id": "Rlp1fvjnU9qq",
        "colab_type": "text"
      },
      "cell_type": "markdown",
      "source": [
        "### The format parameter of pyplot.plot"
      ]
    },
    {
      "metadata": {
        "id": "2sG8grB1VLCh",
        "colab_type": "text"
      },
      "cell_type": "markdown",
      "source": [
        "The following format string characters are accepted to control the line style or marker:\n",
        "\n",
        "=============================================\n",
        "\n",
        "character       description\n",
        "\n",
        "=============================================\n",
        "\n",
        "\n",
        "```\n",
        "'-'             solid line style\n",
        "'--'            dashed line style\n",
        "'-.'            dash-dot line style\n",
        "':'             dotted line style\n",
        "'.'             point marker\n",
        "','             pixel marker\n",
        "'o'             circle marker\n",
        "'v'             triangle_down marker\n",
        "'^'             triangle_up marker\n",
        "'<'             triangle_left marker\n",
        "'>'             triangle_right marker\n",
        "'1'             tri_down marker\n",
        "'2'             tri_up marker\n",
        "'3'             tri_left marker\n",
        "'4'             tri_right marker\n",
        "'s'             square marker\n",
        "'p'             pentagon marker\n",
        "'*'             star marker\n",
        "'h'             hexagon1 marker\n",
        "'H'             hexagon2 marker\n",
        "'+'             plus marker\n",
        "'x'             x marker\n",
        "'D'             diamond marker\n",
        "'d'             thin_diamond marker\n",
        "'|'             vline marker\n",
        "'_'             hline marker\n",
        "```\n",
        "\n",
        "\n",
        "===============================================\n",
        "\n",
        "The following color abbreviations are supported:\n",
        "\n",
        "==================\n",
        "\n",
        "character   color\n",
        "\n",
        "==================\n",
        "\n",
        "```\n",
        "'b'         blue\n",
        "'g'         green\n",
        "'r'         red\n",
        "'c'         cyan\n",
        "'m'         magenta\n",
        "'y'         yellow\n",
        "'k'         black\n",
        "'w'         white\n",
        "```\n",
        "\n",
        "=================="
      ]
    },
    {
      "metadata": {
        "id": "9E-fRTqwUNYD",
        "colab_type": "code",
        "colab": {
          "base_uri": "https://localhost:8080/",
          "height": 347
        },
        "outputId": "f3933674-b981-43af-b9c9-ad5f487b05c2"
      },
      "cell_type": "code",
      "source": [
        "import matplotlib.pyplot as plt\n",
        "plt.plot([-1, -4.5, 16, 23])\n",
        "plt.show()"
      ],
      "execution_count": 93,
      "outputs": [
        {
          "output_type": "display_data",
          "data": {
            "image/png": "[encoded data removed]",
            "text/plain": [
              "<matplotlib.figure.Figure at 0x7fa103072c50>"
            ]
          },
          "metadata": {
            "tags": []
          }
        }
      ]
    },
    {
      "metadata": {
        "id": "6sa8AK75UN-q",
        "colab_type": "code",
        "colab": {
          "base_uri": "https://localhost:8080/",
          "height": 347
        },
        "outputId": "536346fc-9eeb-4d4d-d8c4-b61e0039d17c"
      },
      "cell_type": "code",
      "source": [
        "import matplotlib.pyplot as plt\n",
        "plt.plot([-1, -4.5, 16, 23], \"ob\")\n",
        "plt.show()"
      ],
      "execution_count": 94,
      "outputs": [
        {
          "output_type": "display_data",
          "data": {
            "image/png": "[encoded data removed]",
            "text/plain": [
              "<matplotlib.figure.Figure at 0x7fa10300b898>"
            ]
          },
          "metadata": {
            "tags": []
          }
        }
      ]
    },
    {
      "metadata": {
        "id": "-MNJFQbDUXVJ",
        "colab_type": "code",
        "colab": {
          "base_uri": "https://localhost:8080/",
          "height": 364
        },
        "outputId": "fb0f7781-fc0f-4878-e74f-9b1e6e68fc11"
      },
      "cell_type": "code",
      "source": [
        "# our X values:\n",
        "days = list(range(0, 22, 3))\n",
        "print(days)\n",
        "# our Y values:\n",
        "celsius_values = [25.6, 24.1, 26.7, 28.3, 27.5, 30.5, 32.8, 33.1]\n",
        "plt.plot(days, celsius_values)\n",
        "plt.show()"
      ],
      "execution_count": 97,
      "outputs": [
        {
          "output_type": "stream",
          "text": [
            "[0, 3, 6, 9, 12, 15, 18, 21]\n"
          ],
          "name": "stdout"
        },
        {
          "output_type": "display_data",
          "data": {
            "image/png": "[encoded data removed]",
            "text/plain": [
              "<matplotlib.figure.Figure at 0x7fa100ed3748>"
            ]
          },
          "metadata": {
            "tags": []
          }
        }
      ]
    },
    {
      "metadata": {
        "id": "j6oDLR2CUmEQ",
        "colab_type": "code",
        "colab": {
          "base_uri": "https://localhost:8080/",
          "height": 347
        },
        "outputId": "169124ef-1ca2-4606-da62-6aa98335ee59"
      },
      "cell_type": "code",
      "source": [
        "plt.plot(days, celsius_values, 'bo')\n",
        "plt.show()"
      ],
      "execution_count": 98,
      "outputs": [
        {
          "output_type": "display_data",
          "data": {
            "image/png": "[encoded data removed]",
            "text/plain": [
              "<matplotlib.figure.Figure at 0x7fa10305f320>"
            ]
          },
          "metadata": {
            "tags": []
          }
        }
      ]
    },
    {
      "metadata": {
        "id": "BKXzQeflU08j",
        "colab_type": "code",
        "colab": {}
      },
      "cell_type": "code",
      "source": [
        ""
      ],
      "execution_count": 0,
      "outputs": []
    },
    {
      "metadata": {
        "id": "9SUXsnC5VC8l",
        "colab_type": "text"
      },
      "cell_type": "markdown",
      "source": [
        "### Labels on Axes"
      ]
    },
    {
      "metadata": {
        "id": "wKWODb-cVFFM",
        "colab_type": "code",
        "colab": {
          "base_uri": "https://localhost:8080/",
          "height": 361
        },
        "outputId": "8070aca0-0a38-4281-8fc9-aac0c5d96976"
      },
      "cell_type": "code",
      "source": [
        "days = list(range(1,9))\n",
        "celsius_values = [25.6, 24.1, 26.7, 28.3, 27.5, 30.5, 32.8, 33.1]\n",
        "plt.plot(days, celsius_values)\n",
        "plt.xlabel('Day')\n",
        "plt.ylabel('Degrees Celsius')\n",
        "plt.show()"
      ],
      "execution_count": 99,
      "outputs": [
        {
          "output_type": "display_data",
          "data": {
            "image/png": "[encoded data removed]",
            "text/plain": [
              "<matplotlib.figure.Figure at 0x7fa100f25470>"
            ]
          },
          "metadata": {
            "tags": []
          }
        }
      ]
    },
    {
      "metadata": {
        "id": "99of8BAxV2uc",
        "colab_type": "code",
        "colab": {}
      },
      "cell_type": "code",
      "source": [
        ""
      ],
      "execution_count": 0,
      "outputs": []
    },
    {
      "metadata": {
        "id": "f4z0hNpvV-Ai",
        "colab_type": "text"
      },
      "cell_type": "markdown",
      "source": [
        "We can specify an arbitrary number of x, y, fmt groups in a plot function. In the following example, we use two different lists of y values:"
      ]
    },
    {
      "metadata": {
        "id": "SYk-cOdjV_pS",
        "colab_type": "code",
        "colab": {
          "base_uri": "https://localhost:8080/",
          "height": 362
        },
        "outputId": "94e20cbf-d6ac-47fa-8fe1-8e4fd85cf741"
      },
      "cell_type": "code",
      "source": [
        "days = list(range(1,9))\n",
        "celsius_min = [19.6, 24.1, 26.7, 28.3, 27.5, 30.5, 32.8, 33.1]\n",
        "celsius_max = [24.8, 28.9, 31.3, 33.0, 34.9, 35.6, 38.4, 39.2]\n",
        "plt.xlabel('Day')\n",
        "plt.ylabel('Degrees Celsius')\n",
        "plt.plot(days, celsius_min,\n",
        "         days, celsius_min, \"oy\",\n",
        "         days, celsius_max, \n",
        "         days, celsius_max, \"or\")\n",
        "plt.show()"
      ],
      "execution_count": 100,
      "outputs": [
        {
          "output_type": "display_data",
          "data": {
            "image/png": "[encoded data removed]",
            "text/plain": [
              "<matplotlib.figure.Figure at 0x7fa10305fef0>"
            ]
          },
          "metadata": {
            "tags": []
          }
        }
      ]
    },
    {
      "metadata": {
        "id": "ExzgOAnoWEk3",
        "colab_type": "code",
        "colab": {}
      },
      "cell_type": "code",
      "source": [
        ""
      ],
      "execution_count": 0,
      "outputs": []
    },
    {
      "metadata": {
        "id": "g1m80NtDWNQS",
        "colab_type": "text"
      },
      "cell_type": "markdown",
      "source": [
        "### Checking and Defining the Range of Axes"
      ]
    },
    {
      "metadata": {
        "id": "4xdXL8m1WQSh",
        "colab_type": "code",
        "colab": {
          "base_uri": "https://localhost:8080/",
          "height": 433
        },
        "outputId": "6d533407-8313-46b8-ebfe-4af781645893"
      },
      "cell_type": "code",
      "source": [
        "days = list(range(1,9))\n",
        "celsius_min = [19.6, 24.1, 26.7, 28.3, 27.5, 30.5, 32.8, 33.1]\n",
        "celsius_max = [24.8, 28.9, 31.3, 33.0, 34.9, 35.6, 38.4, 39.2]\n",
        "plt.xlabel('Day')\n",
        "plt.ylabel('Degrees Celsius')\n",
        "plt.plot(days, celsius_min,\n",
        "         days, celsius_min, \"oy\",\n",
        "         days, celsius_max, \n",
        "         days, celsius_max, \"or\")\n",
        "print(\"The current limits for the axes are:\")        \n",
        "print(plt.axis())\n",
        "print(\"We set the axes to the following values:\")\n",
        "xmin, xmax, ymin, ymax = 0, 10, 14, 45\n",
        "print(xmin, xmax, ymin, ymax)\n",
        "plt.axis([xmin, xmax, ymin, ymax])\n",
        "plt.show()"
      ],
      "execution_count": 101,
      "outputs": [
        {
          "output_type": "stream",
          "text": [
            "The current limits for the axes are:\n",
            "(0.6499999999999999, 8.35, 18.62, 40.18)\n",
            "We set the axes to the following values:\n",
            "0 10 14 45\n"
          ],
          "name": "stdout"
        },
        {
          "output_type": "display_data",
          "data": {
            "image/png": "[encoded data removed]",
            "text/plain": [
              "<matplotlib.figure.Figure at 0x7fa100e68828>"
            ]
          },
          "metadata": {
            "tags": []
          }
        }
      ]
    },
    {
      "metadata": {
        "id": "fZLRVr-mWUsh",
        "colab_type": "code",
        "colab": {}
      },
      "cell_type": "code",
      "source": [
        ""
      ],
      "execution_count": 0,
      "outputs": []
    },
    {
      "metadata": {
        "id": "DOHIr5p8Wh2D",
        "colab_type": "text"
      },
      "cell_type": "markdown",
      "source": [
        "### \"linspace\" to Define X Values"
      ]
    },
    {
      "metadata": {
        "id": "_CSzBA7-Wkbk",
        "colab_type": "text"
      },
      "cell_type": "markdown",
      "source": [
        "We will use the Numpy function linspace in the following example. linspace can be used to create evenly spaced numbers over a specified interval."
      ]
    },
    {
      "metadata": {
        "id": "OSeK3QGyWmjE",
        "colab_type": "code",
        "colab": {
          "base_uri": "https://localhost:8080/",
          "height": 347
        },
        "outputId": "4849ee30-8278-4a8d-ce56-08abbb97ec2e"
      },
      "cell_type": "code",
      "source": [
        "X = np.linspace(0, 2 * np.pi, 50, endpoint=True)\n",
        "F = np.sin(X)\n",
        "plt.plot(X,F)\n",
        "startx, endx = -0.1, 2*np.pi + 0.1\n",
        "starty, endy = -1.1, 1.1\n",
        "plt.axis([startx, endx, starty, endy])\n",
        "plt.show()"
      ],
      "execution_count": 102,
      "outputs": [
        {
          "output_type": "display_data",
          "data": {
            "image/png": "[encoded data removed]",
            "text/plain": [
              "<matplotlib.figure.Figure at 0x7fa100e33d68>"
            ]
          },
          "metadata": {
            "tags": []
          }
        }
      ]
    },
    {
      "metadata": {
        "id": "q1IGPqlAWvqb",
        "colab_type": "code",
        "colab": {}
      },
      "cell_type": "code",
      "source": [
        ""
      ],
      "execution_count": 0,
      "outputs": []
    },
    {
      "metadata": {
        "id": "c401IJUcW7Ty",
        "colab_type": "text"
      },
      "cell_type": "markdown",
      "source": [
        "### Changing the Line Style"
      ]
    },
    {
      "metadata": {
        "id": "hf4lk2bCW8L5",
        "colab_type": "code",
        "colab": {
          "base_uri": "https://localhost:8080/",
          "height": 347
        },
        "outputId": "18c13adb-f6e9-497f-d2fe-91a90339cda0"
      },
      "cell_type": "code",
      "source": [
        "X = np.linspace(0, 2 * np.pi, 50, endpoint=True)\n",
        "F1 = 3 * np.sin(X)\n",
        "F2 = np.sin(2*X)\n",
        "F3 = 0.3 * np.sin(X)\n",
        "F4 = np.cos(X)\n",
        "plt.plot(X, F1, color=\"blue\", linewidth=2.5, linestyle=\"-\")\n",
        "plt.plot(X, F2, color=\"red\", linewidth=1.5, linestyle=\"--\")\n",
        "plt.plot(X, F3, color=\"green\", linewidth=2, linestyle=\":\")\n",
        "plt.plot(X, F4, color=\"grey\", linewidth=2, linestyle=\"-.\")\n",
        "plt.show()"
      ],
      "execution_count": 106,
      "outputs": [
        {
          "output_type": "display_data",
          "data": {
            "image/png": "[encoded data removed]",
            "text/plain": [
              "<matplotlib.figure.Figure at 0x7fa100cf1898>"
            ]
          },
          "metadata": {
            "tags": []
          }
        }
      ]
    },
    {
      "metadata": {
        "id": "Hi6ZXVLRW-Z6",
        "colab_type": "code",
        "colab": {}
      },
      "cell_type": "code",
      "source": [
        ""
      ],
      "execution_count": 0,
      "outputs": []
    },
    {
      "metadata": {
        "id": "dUmT6gD-X6DC",
        "colab_type": "text"
      },
      "cell_type": "markdown",
      "source": [
        "## Spines and Ticks"
      ]
    },
    {
      "metadata": {
        "id": "wfpRhd_lX_CK",
        "colab_type": "text"
      },
      "cell_type": "markdown",
      "source": [
        "### Moving the Border Lines and Polishing up the Axes Notations"
      ]
    },
    {
      "metadata": {
        "id": "y7f2jwGnYFsB",
        "colab_type": "text"
      },
      "cell_type": "markdown",
      "source": [
        "We can e.g. call plt.gca(projection='polar') to get the current polar axes on the current figure."
      ]
    },
    {
      "metadata": {
        "id": "hWOFjKheYGoM",
        "colab_type": "code",
        "colab": {
          "base_uri": "https://localhost:8080/",
          "height": 330
        },
        "outputId": "8663ca66-04ba-43f6-be72-773cef90e449"
      },
      "cell_type": "code",
      "source": [
        "X = np.linspace(-2 * np.pi, 2 * np.pi, 70, endpoint=True)\n",
        "F1 = np.sin(2* X)\n",
        "F2 = (2*X**5 + 4*X**4 - 4.8*X**3 + 1.2*X**2 + X + 1)*np.exp(-X**2)\n",
        "# get the current axes, creating them if necessary:\n",
        "ax = plt.gca()\n",
        "# making the top and right spine invisible:\n",
        "ax.spines['top'].set_color('none')\n",
        "ax.spines['right'].set_color('none')\n",
        "# moving bottom spine up to y=0 position:\n",
        "ax.xaxis.set_ticks_position('bottom')\n",
        "ax.spines['bottom'].set_position(('data',0))\n",
        "# moving left spine to the right to position x == 0:\n",
        "ax.yaxis.set_ticks_position('left')\n",
        "ax.spines['left'].set_position(('data',0))\n",
        "plt.plot(X, F1)\n",
        "plt.plot(X, F2)\n",
        "plt.show()"
      ],
      "execution_count": 111,
      "outputs": [
        {
          "output_type": "display_data",
          "data": {
            "image/png": "[encoded data removed]",
            "text/plain": [
              "<matplotlib.figure.Figure at 0x7fa100b84748>"
            ]
          },
          "metadata": {
            "tags": []
          }
        }
      ]
    },
    {
      "metadata": {
        "id": "1VDm_8yoYOWl",
        "colab_type": "code",
        "colab": {}
      },
      "cell_type": "code",
      "source": [
        ""
      ],
      "execution_count": 0,
      "outputs": []
    },
    {
      "metadata": {
        "id": "5IVgO_18Y5a7",
        "colab_type": "text"
      },
      "cell_type": "markdown",
      "source": [
        "## Matplotlib Tutorial, Adding Legends and Annotations"
      ]
    },
    {
      "metadata": {
        "id": "_B3AT3PMY7rk",
        "colab_type": "text"
      },
      "cell_type": "markdown",
      "source": [
        "### Adding a Legend"
      ]
    },
    {
      "metadata": {
        "id": "BxdoDiAeY_N5",
        "colab_type": "text"
      },
      "cell_type": "markdown",
      "source": [
        "The pyplot function\n",
        "\n",
        "legend(*args, **kwargs)\n",
        "\n",
        "places a legend on the axes."
      ]
    },
    {
      "metadata": {
        "id": "luyi5sFuZFBy",
        "colab_type": "code",
        "colab": {
          "base_uri": "https://localhost:8080/",
          "height": 351
        },
        "outputId": "2391fd96-07e5-4309-8c79-898cf386112b"
      },
      "cell_type": "code",
      "source": [
        "x = np.linspace(0, 25, 1000)\n",
        "y1 = np.sin(x)\n",
        "y2 = np.cos(x)\n",
        "plt.plot(x, y1, '-b', label='sine')\n",
        "plt.plot(x, y2, '-r', label='cosine')\n",
        "plt.legend(loc='upper left')\n",
        "plt.ylim(-1.5, 2.0)\n",
        "plt.show()"
      ],
      "execution_count": 112,
      "outputs": [
        {
          "output_type": "display_data",
          "data": {
            "image/png": "[encoded data removed]",
            "text/plain": [
              "<matplotlib.figure.Figure at 0x7fa100bae198>"
            ]
          },
          "metadata": {
            "tags": []
          }
        }
      ]
    },
    {
      "metadata": {
        "id": "XvoacZbWZFkg",
        "colab_type": "code",
        "colab": {}
      },
      "cell_type": "code",
      "source": [
        ""
      ],
      "execution_count": 0,
      "outputs": []
    },
    {
      "metadata": {
        "id": "T9g51TlvZbiQ",
        "colab_type": "text"
      },
      "cell_type": "markdown",
      "source": [
        "### Annotations"
      ]
    },
    {
      "metadata": {
        "id": "ydY7pjlXYLVg",
        "colab_type": "code",
        "colab": {
          "base_uri": "https://localhost:8080/",
          "height": 349
        },
        "outputId": "06c453a1-cb41-4aa3-ce56-6a786b52f9d4"
      },
      "cell_type": "code",
      "source": [
        "X = np.linspace(-2 * np.pi, 3 * np.pi, 70, endpoint=True)\n",
        "F1 = np.sin(X)\n",
        "F2 = 3 * np.sin(X)\n",
        "ax = plt.gca()\n",
        "plt.xticks( [-6.28, -3.14, 3.14, 6.28],\n",
        "        [r'$-2\\pi$', r'$-\\pi$', r'$+\\pi$', r'$+2\\pi$'])\n",
        "plt.yticks([-3, -1, 0, +1, 3])\n",
        "x = 3 * np.pi / 4\n",
        "plt.scatter([x,],[3 * np.sin(x),], 50, color ='blue')\n",
        "plt.annotate(r'$(3\\sin(\\frac{3\\pi}{4}),\\frac{3}{\\sqrt{2}})$',\n",
        "         xy=(x, 3 * np.sin(x)), \n",
        "         xycoords='data',\n",
        "         xytext=(+20, +20), \n",
        "         textcoords='offset points', \n",
        "         fontsize=16,\n",
        "         arrowprops=dict(facecolor='blue'))\n",
        "plt.plot(X, F1, label=\"$sin(x)$\")\n",
        "plt.plot(X, F2, label=\"$3 sin(x)$\")\n",
        "plt.legend(loc='lower left')\n",
        "plt.show()"
      ],
      "execution_count": 113,
      "outputs": [
        {
          "output_type": "display_data",
          "data": {
            "image/png": "[encoded data removed]",
            "text/plain": [
              "<matplotlib.figure.Figure at 0x7fa100d6b7f0>"
            ]
          },
          "metadata": {
            "tags": []
          }
        }
      ]
    },
    {
      "metadata": {
        "id": "sgaddVduZfrM",
        "colab_type": "code",
        "colab": {}
      },
      "cell_type": "code",
      "source": [
        ""
      ],
      "execution_count": 0,
      "outputs": []
    },
    {
      "metadata": {
        "id": "VGnMa-loZr0T",
        "colab_type": "text"
      },
      "cell_type": "markdown",
      "source": [
        "## Histograms"
      ]
    },
    {
      "metadata": {
        "id": "vnu3ZiMdZusK",
        "colab_type": "code",
        "colab": {
          "base_uri": "https://localhost:8080/",
          "height": 376
        },
        "outputId": "d3893fdd-3a79-4633-fe88-ee5be03731af"
      },
      "cell_type": "code",
      "source": [
        "gaussian_numbers = np.random.normal(size=10000)\n",
        "plt.hist(gaussian_numbers)\n",
        "plt.title(\"Gaussian Histogram\")\n",
        "plt.xlabel(\"Value\")\n",
        "plt.ylabel(\"Frequency\")\n",
        "plt.show()"
      ],
      "execution_count": 114,
      "outputs": [
        {
          "output_type": "display_data",
          "data": {
            "image/png": "[encoded data removed]",
            "text/plain": [
              "<matplotlib.figure.Figure at 0x7fa1030b9860>"
            ]
          },
          "metadata": {
            "tags": []
          }
        }
      ]
    },
    {
      "metadata": {
        "id": "6UG8wl8RZxRi",
        "colab_type": "code",
        "colab": {
          "base_uri": "https://localhost:8080/",
          "height": 348
        },
        "outputId": "a5467642-7340-4cb6-e881-a897f9a00570"
      },
      "cell_type": "code",
      "source": [
        "plt.hist(gaussian_numbers, bins=100)\n",
        "plt.show()"
      ],
      "execution_count": 115,
      "outputs": [
        {
          "output_type": "display_data",
          "data": {
            "image/png": "[encoded data removed]",
            "text/plain": [
              "<matplotlib.figure.Figure at 0x7fa100b5f9b0>"
            ]
          },
          "metadata": {
            "tags": []
          }
        }
      ]
    },
    {
      "metadata": {
        "id": "eUA8VHZ8aAM0",
        "colab_type": "code",
        "colab": {
          "base_uri": "https://localhost:8080/",
          "height": 347
        },
        "outputId": "be00f30e-70d0-425f-c4bf-94d29f7798cd"
      },
      "cell_type": "code",
      "source": [
        "plt.hist(gaussian_numbers, \n",
        "         bins=100, \n",
        "         normed=True, \n",
        "         stacked=True, \n",
        "         edgecolor=\"#6A9662\",\n",
        "         color=\"#DDFFDD\")\n",
        "plt.show()"
      ],
      "execution_count": 116,
      "outputs": [
        {
          "output_type": "display_data",
          "data": {
            "image/png": "[encoded data removed]",
            "text/plain": [
              "<matplotlib.figure.Figure at 0x7fa100c49198>"
            ]
          },
          "metadata": {
            "tags": []
          }
        }
      ]
    },
    {
      "metadata": {
        "id": "8fgB2s_3aNaq",
        "colab_type": "code",
        "colab": {}
      },
      "cell_type": "code",
      "source": [
        ""
      ],
      "execution_count": 0,
      "outputs": []
    },
    {
      "metadata": {
        "id": "5QoJI0V8aVPG",
        "colab_type": "text"
      },
      "cell_type": "markdown",
      "source": [
        "### Bar Plots"
      ]
    },
    {
      "metadata": {
        "id": "Lq6FTxKKaX5X",
        "colab_type": "code",
        "colab": {
          "base_uri": "https://localhost:8080/",
          "height": 347
        },
        "outputId": "4730fbe2-7f79-45a9-c513-7d5ec1bb6f26"
      },
      "cell_type": "code",
      "source": [
        "bars = plt.bar([1,2,3,4], [1,4,9,16])\n",
        "bars[0].set_color('green')\n",
        "plt.show()"
      ],
      "execution_count": 117,
      "outputs": [
        {
          "output_type": "display_data",
          "data": {
            "image/png": "[encoded data removed]",
            "text/plain": [
              "<matplotlib.figure.Figure at 0x7fa100e82e10>"
            ]
          },
          "metadata": {
            "tags": []
          }
        }
      ]
    },
    {
      "metadata": {
        "id": "s5j20qKKaYy8",
        "colab_type": "code",
        "colab": {}
      },
      "cell_type": "code",
      "source": [
        ""
      ],
      "execution_count": 0,
      "outputs": []
    },
    {
      "metadata": {
        "id": "GCr0sBjuayYe",
        "colab_type": "text"
      },
      "cell_type": "markdown",
      "source": [
        "# Image Processing"
      ]
    },
    {
      "metadata": {
        "id": "2bG-NGFrbx94",
        "colab_type": "code",
        "colab": {
          "base_uri": "https://localhost:8080/",
          "height": 34
        },
        "outputId": "09c4bbb6-47e7-444c-ebb0-007360bce581"
      },
      "cell_type": "code",
      "source": [
        "import tensorflow as tf\n",
        "# Computational Graph:\n",
        "c1 = tf.constant(0.034)\n",
        "c2 = tf.constant(1000.0)\n",
        "x = tf.multiply(c1, c1)\n",
        "y = tf.multiply(c1, c2)\n",
        "final_node = tf.add(x, y)\n",
        "# Running the session:\n",
        "with tf.Session() as sess:\n",
        "    result = sess.run(final_node)\n",
        "    print(result, type(result))"
      ],
      "execution_count": 118,
      "outputs": [
        {
          "output_type": "stream",
          "text": [
            "34.001156 <class 'numpy.float32'>\n"
          ],
          "name": "stdout"
        }
      ]
    },
    {
      "metadata": {
        "id": "sTlBCNiEbybd",
        "colab_type": "code",
        "colab": {}
      },
      "cell_type": "code",
      "source": [
        ""
      ],
      "execution_count": 0,
      "outputs": []
    }
  ]
}