{
  "nbformat": 4,
  "nbformat_minor": 0,
  "metadata": {
    "colab": {
      "name": "1 - Linear Regression.ipynb",
      "version": "0.3.2",
      "provenance": [],
      "include_colab_link": true
    },
    "kernelspec": {
      "name": "python3",
      "display_name": "Python 3"
    },
    "accelerator": "GPU"
  },
  "cells": [
    {
      "cell_type": "markdown",
      "metadata": {
        "id": "view-in-github",
        "colab_type": "text"
      },
      "source": [
        "[View in Colaboratory](https://colab.research.google.com/github/huudatHust/machine-learning/blob/master/1_Linear_Regression.ipynb)"
      ]
    },
    {
      "metadata": {
        "id": "wqAQnQCsLOSd",
        "colab_type": "code",
        "colab": {}
      },
      "cell_type": "code",
      "source": [
        ""
      ],
      "execution_count": 0,
      "outputs": []
    },
    {
      "metadata": {
        "id": "LAEgBf5gOkSt",
        "colab_type": "text"
      },
      "cell_type": "markdown",
      "source": [
        "# **Bài toán Hồi Quy -  Linear Regression**\n",
        "\n",
        "---\n",
        "# Vấn đề :\n",
        "https://machinelearningcoban.com/2016/12/28/linearregression/\n",
        "\n",
        "\n",
        "một căn nhà rộng x1 m2, có x2  phòng ngủ và cách trung tâm thành phố x3 km,  có giá là bao nhiêu??\n",
        "Giả sử chúng ta đã có số liệu thống kê từ 1000 căn nhà trong thành phố đó, liệu rằng khi có một căn nhà mới với các thông số về diện tích, số phòng ngủ và khoảng cách tới trung tâm, chúng ta có thể dự đoán được giá của căn nhà đó không?\n",
        "\n",
        "\n"
      ]
    },
    {
      "metadata": {
        "id": "rhqB6wEWV2ZH",
        "colab_type": "code",
        "colab": {}
      },
      "cell_type": "code",
      "source": [
        ""
      ],
      "execution_count": 0,
      "outputs": []
    },
    {
      "metadata": {
        "id": "vp5owsXLQHvE",
        "colab_type": "text"
      },
      "cell_type": "markdown",
      "source": [
        "y\n",
        "≈\n",
        "f\n",
        "(\n",
        "x\n",
        ")\n",
        "=\n",
        "^\n",
        "y\n",
        "\n",
        "\n",
        "f\n",
        "(\n",
        "x\n",
        ")\n",
        "=\n",
        "w\n",
        "1\n",
        "x\n",
        "1\n",
        "+\n",
        "w\n",
        "2\n",
        "x\n",
        "2\n",
        "+\n",
        "w\n",
        "3\n",
        "x\n",
        "3\n",
        "+\n",
        "w\n",
        "0\n",
        " \n",
        " \n",
        " \n",
        "trong đó, \n",
        "w\n",
        "1\n",
        ",\n",
        "w\n",
        "2\n",
        ",\n",
        "w\n",
        "3\n",
        ",\n",
        "w\n",
        "0\n",
        " là các hằng số, \n",
        "w\n",
        "0\n",
        " còn được gọi là bias. Mối quan hệ \n",
        "y\n",
        "≈\n",
        "f\n",
        "(\n",
        "x\n",
        ")\n",
        " bên trên là một mối quan hệ tuyến tính (linear). Bài toán chúng ta đang làm là một bài toán thuộc loại regression. Bài toán đi tìm các hệ số tối ưu \n",
        "{\n",
        "w\n",
        "1\n",
        ",\n",
        "w\n",
        "2\n",
        ",\n",
        "w\n",
        "3\n",
        ",\n",
        "w\n",
        "0\n",
        "}\n",
        " chính vì vậy được gọi là bài toán Linear Regression."
      ]
    },
    {
      "metadata": {
        "id": "RrKNVJ-KQZ4m",
        "colab_type": "code",
        "colab": {}
      },
      "cell_type": "code",
      "source": [
        "import numpy as np\n",
        "import matplotlib.pyplot as plt"
      ],
      "execution_count": 0,
      "outputs": []
    },
    {
      "metadata": {
        "id": "ZI84kgtfWEKH",
        "colab_type": "code",
        "colab": {
          "base_uri": "https://localhost:8080/",
          "height": 365
        },
        "outputId": "24a740d0-c269-4274-c289-719c5d5b47f5"
      },
      "cell_type": "code",
      "source": [
        "#height (cm)\n",
        "X = np.array([[147, 150, 153, 158, 163, 165, 168, 170, 173, 175, 178, 180, 183]]).T\n",
        "#weight (kg)\n",
        "y = np.array([[ 49, 50, 51,  54, 58, 59, 60, 62, 63, 64, 66, 67, 68]]).T\n",
        "\n",
        "#visaulize data\n",
        "plt.plot(X, y, 'ro')\n",
        "plt.axis([140, 190, 45, 75])\n",
        "plt.xlabel('Height ')\n",
        "plt.ylabel('Weight')\n",
        "plt.show()"
      ],
      "execution_count": 8,
      "outputs": [
        {
          "output_type": "display_data",
          "data": {
            "image/png": "[encoded data removed]",
            "text/plain": [
              "<matplotlib.figure.Figure at 0x7f9418f26710>"
            ]
          },
          "metadata": {
            "tags": []
          }
        }
      ]
    },
    {
      "metadata": {
        "id": "qSAl-OhhXyN7",
        "colab_type": "text"
      },
      "cell_type": "markdown",
      "source": [
        "Từ đồ thị này ta thấy rằng dữ liệu được sắp xếp gần như theo 1 đường thẳng, vậy mô hình Linear Regression nhiều khả năng sẽ cho kết quả tốt:\n",
        "\n",
        "(cân nặng) = w_1*(chiều cao) + w_0"
      ]
    },
    {
      "metadata": {
        "id": "KvKDX730Xt9i",
        "colab_type": "code",
        "colab": {
          "base_uri": "https://localhost:8080/",
          "height": 238
        },
        "outputId": "03e70b0f-2115-4b8c-e036-7301249f371f"
      },
      "cell_type": "code",
      "source": [
        "#Build XBar\n",
        "one = np.ones((X.shape[0], 1))\n",
        "Xbar = np.concatenate((one, X), axis = 1)\n"
      ],
      "execution_count": 11,
      "outputs": [
        {
          "output_type": "stream",
          "text": [
            "[[  1. 147.]\n",
            " [  1. 150.]\n",
            " [  1. 153.]\n",
            " [  1. 158.]\n",
            " [  1. 163.]\n",
            " [  1. 165.]\n",
            " [  1. 168.]\n",
            " [  1. 170.]\n",
            " [  1. 173.]\n",
            " [  1. 175.]\n",
            " [  1. 178.]\n",
            " [  1. 180.]\n",
            " [  1. 183.]]\n"
          ],
          "name": "stdout"
        }
      ]
    },
    {
      "metadata": {
        "id": "0Vf-bgPYZz4J",
        "colab_type": "text"
      },
      "cell_type": "markdown",
      "source": [
        "NGhiệm pt : w\n",
        "=\n",
        "A\n",
        "†\n",
        "b\n",
        "=\n",
        "(\n",
        "¯\n",
        "X\n",
        "T\n",
        "¯\n",
        "X\n",
        ")\n",
        "†\n",
        "¯\n",
        "X\n",
        "T\n",
        "y\n",
        " \n",
        " \n",
        " \n",
        "(\n",
        "5\n",
        ")\n"
      ]
    },
    {
      "metadata": {
        "id": "EIv4tPlhYisz",
        "colab_type": "code",
        "colab": {
          "base_uri": "https://localhost:8080/",
          "height": 51
        },
        "outputId": "43c263e6-3de1-4630-c0cb-ac64a531c283"
      },
      "cell_type": "code",
      "source": [
        "#Calculating weights of the fitting line\n",
        "A = np.dot(Xbar.T, Xbar)\n",
        "b = np.dot(Xbar.T, y)\n",
        "w = np.dot(np.linalg.pinv(A), b)\n",
        "print('w = ', w);"
      ],
      "execution_count": 16,
      "outputs": [
        {
          "output_type": "stream",
          "text": [
            "w =  [[-33.73541021]\n",
            " [  0.55920496]]\n"
          ],
          "name": "stdout"
        }
      ]
    },
    {
      "metadata": {
        "id": "aljJkAh5ZeZN",
        "colab_type": "code",
        "colab": {
          "base_uri": "https://localhost:8080/",
          "height": 365
        },
        "outputId": "c38403b2-c70e-41db-db95-2e62b1aee8c4"
      },
      "cell_type": "code",
      "source": [
        "w_0 = w[0][0]\n",
        "w_1 = w[1][0]\n",
        "x0 = np.linspace(145, 185, 2)\n",
        "y0 = w_0 + w_1 * x0\n",
        "\n",
        "#drawing the fitting line\n",
        "plt.plot(X.T, y.T, 'ro')\n",
        "plt.plot(x0, y0)\n",
        "plt.axis([140, 190, 45, 75])\n",
        "plt.xlabel('Height')\n",
        "plt.ylabel('weight')\n",
        "plt.show()"
      ],
      "execution_count": 17,
      "outputs": [
        {
          "output_type": "display_data",
          "data": {
            "image/png": "[encoded data removed]",
            "text/plain": [
              "<matplotlib.figure.Figure at 0x7f94190d58d0>"
            ]
          },
          "metadata": {
            "tags": []
          }
        }
      ]
    },
    {
      "metadata": {
        "id": "f3AQi2o7ay_u",
        "colab_type": "code",
        "colab": {
          "base_uri": "https://localhost:8080/",
          "height": 51
        },
        "outputId": "e2b0281a-4330-4a1f-dd3f-16be1be2e68c"
      },
      "cell_type": "code",
      "source": [
        "#predict\n",
        "y1 = w_1*155 + w_0\n",
        "y2 = w_1*160 + w_0\n",
        "\n",
        "print( u'Predict weight of person with height 155 cm: %.2f (kg), real number: 52 (kg)'  %(y1) )\n",
        "print( u'Predict weight of person with height 160 cm: %.2f (kg), real number: 56 (kg)'  %(y2) )"
      ],
      "execution_count": 18,
      "outputs": [
        {
          "output_type": "stream",
          "text": [
            "Predict weight of person with height 155 cm: 52.94 (kg), real number: 52 (kg)\n",
            "Predict weight of person with height 160 cm: 55.74 (kg), real number: 56 (kg)\n"
          ],
          "name": "stdout"
        }
      ]
    },
    {
      "metadata": {
        "id": "EgTvCeL_a9z0",
        "colab_type": "code",
        "colab": {
          "base_uri": "https://localhost:8080/",
          "height": 51
        },
        "outputId": "6e57c308-5366-4043-e380-41b3e6eb1634"
      },
      "cell_type": "code",
      "source": [
        "from sklearn import datasets, linear_model\n",
        "\n",
        "#fit the model by liear regression\n",
        "regr = linear_model.LinearRegression(fit_intercept=False)\n",
        "regr.fit(Xbar, y)\n",
        "# Compare two results\n",
        "print( 'Solution found by scikit-learn  : ', regr.coef_ )\n",
        "print( 'Solution found by (5): ', w.T)"
      ],
      "execution_count": 19,
      "outputs": [
        {
          "output_type": "stream",
          "text": [
            "Solution found by scikit-learn  :  [[-33.73541021   0.55920496]]\n",
            "Solution found by (5):  [[-33.73541021   0.55920496]]\n"
          ],
          "name": "stdout"
        }
      ]
    },
    {
      "metadata": {
        "id": "DXPaPxjNbYgI",
        "colab_type": "code",
        "colab": {}
      },
      "cell_type": "code",
      "source": [
        ""
      ],
      "execution_count": 0,
      "outputs": []
    },
    {
      "metadata": {
        "id": "UNLaODzRZCyM",
        "colab_type": "code",
        "colab": {}
      },
      "cell_type": "code",
      "source": [
        ""
      ],
      "execution_count": 0,
      "outputs": []
    },
    {
      "metadata": {
        "id": "XbMbIjd6Y-9s",
        "colab_type": "code",
        "colab": {}
      },
      "cell_type": "code",
      "source": [
        ""
      ],
      "execution_count": 0,
      "outputs": []
    },
    {
      "metadata": {
        "id": "UiumZZMrY2J4",
        "colab_type": "code",
        "colab": {}
      },
      "cell_type": "code",
      "source": [
        ""
      ],
      "execution_count": 0,
      "outputs": []
    },
    {
      "metadata": {
        "id": "CQ0MLPR9XNUo",
        "colab_type": "code",
        "colab": {}
      },
      "cell_type": "code",
      "source": [
        ""
      ],
      "execution_count": 0,
      "outputs": []
    },
    {
      "metadata": {
        "id": "fphvah6cXHVQ",
        "colab_type": "code",
        "colab": {}
      },
      "cell_type": "code",
      "source": [
        ""
      ],
      "execution_count": 0,
      "outputs": []
    },
    {
      "metadata": {
        "id": "vx5XDG8PXCjF",
        "colab_type": "code",
        "colab": {}
      },
      "cell_type": "code",
      "source": [
        ""
      ],
      "execution_count": 0,
      "outputs": []
    },
    {
      "metadata": {
        "id": "hEKVf-IAW8nt",
        "colab_type": "code",
        "colab": {}
      },
      "cell_type": "code",
      "source": [
        ""
      ],
      "execution_count": 0,
      "outputs": []
    },
    {
      "metadata": {
        "id": "anhIdUdAW62v",
        "colab_type": "code",
        "colab": {}
      },
      "cell_type": "code",
      "source": [
        ""
      ],
      "execution_count": 0,
      "outputs": []
    },
    {
      "metadata": {
        "id": "UatSxVLYW4tS",
        "colab_type": "code",
        "colab": {}
      },
      "cell_type": "code",
      "source": [
        ""
      ],
      "execution_count": 0,
      "outputs": []
    },
    {
      "metadata": {
        "id": "keUib5B_W1Tp",
        "colab_type": "code",
        "colab": {}
      },
      "cell_type": "code",
      "source": [
        ""
      ],
      "execution_count": 0,
      "outputs": []
    }
  ]
}